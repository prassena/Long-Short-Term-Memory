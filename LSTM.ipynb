{
 "cells": [
  {
   "cell_type": "markdown",
   "metadata": {
    "colab_type": "text",
    "id": "X-cp_kAxCAY2"
   },
   "source": [
    "# Amazon Fine Food Reviews Analysis\n",
    "\n",
    "\n",
    "Data Source: https://www.kaggle.com/snap/amazon-fine-food-reviews <br>\n",
    "\n",
    "EDA: https://nycdatascience.com/blog/student-works/amazon-fine-foods-visualization/\n",
    "\n",
    "\n",
    "The Amazon Fine Food Reviews dataset consists of reviews of fine foods from Amazon.<br>\n",
    "\n",
    "Number of reviews: 568,454<br>\n",
    "Number of users: 256,059<br>\n",
    "Number of products: 74,258<br>\n",
    "Timespan: Oct 1999 - Oct 2012<br>\n",
    "Number of Attributes/Columns in data: 10 \n",
    "\n",
    "Attribute Information:\n",
    "\n",
    "1. Id\n",
    "2. ProductId - unique identifier for the product\n",
    "3. UserId - unqiue identifier for the user\n",
    "4. ProfileName\n",
    "5. HelpfulnessNumerator - number of users who found the review helpful\n",
    "6. HelpfulnessDenominator - number of users who indicated whether they found the review helpful or not\n",
    "7. Score - rating between 1 and 5\n",
    "8. Time - timestamp for the review\n",
    "9. Summary - brief summary of the review\n",
    "10. Text - text of the review\n",
    "\n",
    "\n",
    "#### Objective:\n",
    "Given a review, determine whether the review is positive (Rating of 4 or 5) or negative (rating of 1 or 2).\n",
    "\n",
    "<br>\n",
    "[Q] How to determine if a review is positive or negative?<br>\n",
    "<br> \n",
    "[Ans] We could use the Score/Rating. A rating of 4 or 5 could be cosnidered a positive review. A review of 1 or 2 could be considered negative. A review of 3 is nuetral and ignored. This is an approximate and proxy way of determining the polarity (positivity/negativity) of a review.\n",
    "\n",
    "\n"
   ]
  },
  {
   "cell_type": "markdown",
   "metadata": {
    "colab_type": "text",
    "id": "WHC_UQTuCAY4"
   },
   "source": [
    "## Loading the data\n",
    "\n",
    "The dataset is available in two forms\n",
    "1. .csv file\n",
    "2. SQLite Database\n",
    "\n",
    "In order to load the data, We have used the SQLITE dataset as it easier to query the data and visualise the data efficiently.\n",
    "<br> \n",
    "\n",
    "Here as we only want to get the global sentiment of the recommendations (positive or negative), we will purposefully ignore all Scores equal to 3. If the score id above 3, then the recommendation wil be set to \"positive\". Otherwise, it will be set to \"negative\"."
   ]
  },
  {
   "cell_type": "code",
   "execution_count": 0,
   "metadata": {
    "colab": {
     "base_uri": "https://localhost:8080/",
     "height": 34
    },
    "colab_type": "code",
    "id": "PvDdRsHgCAY5",
    "outputId": "a4f40ed3-788b-44f0-bcc2-d90b21260968"
   },
   "outputs": [
    {
     "name": "stderr",
     "output_type": "stream",
     "text": [
      "Using TensorFlow backend.\n"
     ]
    }
   ],
   "source": [
    "%matplotlib inline\n",
    "import warnings\n",
    "warnings.filterwarnings(\"ignore\")\n",
    "\n",
    "\n",
    "\n",
    "import sqlite3\n",
    "import pandas as pd\n",
    "import numpy as np\n",
    "import nltk\n",
    "import string\n",
    "import matplotlib.pyplot as plt\n",
    "import seaborn as sns\n",
    "from sklearn.feature_extraction.text import TfidfTransformer\n",
    "from sklearn.feature_extraction.text import TfidfVectorizer\n",
    "\n",
    "from sklearn.metrics import confusion_matrix\n",
    "from sklearn import metrics\n",
    "from sklearn.metrics import roc_curve, auc\n",
    "from nltk.stem.porter import PorterStemmer\n",
    "\n",
    "import re\n",
    "# Tutorial about Python regular expressions: https://pymotw.com/2/re/\n",
    "import string\n",
    "from nltk.corpus import stopwords\n",
    "from nltk.stem import PorterStemmer\n",
    "from nltk.stem.wordnet import WordNetLemmatizer\n",
    "\n",
    "from keras.callbacks import ModelCheckpoint\n",
    "from tqdm import tqdm\n",
    "import os\n",
    "\n",
    "from sklearn.model_selection import train_test_split\n",
    "from keras.layers import Dense,BatchNormalization,Dropout\n",
    "from keras.initializers import glorot_normal,he_normal"
   ]
  },
  {
   "cell_type": "code",
   "execution_count": 0,
   "metadata": {
    "colab": {
     "base_uri": "https://localhost:8080/",
     "height": 54
    },
    "colab_type": "code",
    "id": "qjMoevmIb_KQ",
    "outputId": "d80a8a90-c0a9-4c7a-8cad-64bdcc5b8fa8"
   },
   "outputs": [
    {
     "name": "stdout",
     "output_type": "stream",
     "text": [
      "Drive already mounted at /content/drive; to attempt to forcibly remount, call drive.mount(\"/content/drive\", force_remount=True).\n"
     ]
    }
   ],
   "source": [
    "from google.colab import drive\n",
    "drive.mount('/content/drive')"
   ]
  },
  {
   "cell_type": "code",
   "execution_count": 0,
   "metadata": {
    "colab": {},
    "colab_type": "code",
    "id": "jV2nIAjj7zIv"
   },
   "outputs": [],
   "source": [
    "#to see the dataset in kaggle wich startrs with amazon\n",
    "#!kaggle datasets list -s Amazon\n",
    "\n",
    "#to download and save in google drive\n",
    "#!kaggle datasets download --force snap/amazon-fine-food-reviews "
   ]
  },
  {
   "cell_type": "code",
   "execution_count": 0,
   "metadata": {
    "colab": {},
    "colab_type": "code",
    "id": "_LBuDmxVerIW"
   },
   "outputs": [],
   "source": [
    "#unzip in specified folder\n",
    "#import os\n",
    "#os.chdir('drive/My Drive/kaggle/amazon')  #change dir\n",
    "#!mkdir Amz_unzip  #create a directory named Amz_unzip/\n",
    "#!unzip -q amazon-fine-food-reviews.zip -d Amz_unzip/  #unzip data in Amz_unzip/"
   ]
  },
  {
   "cell_type": "markdown",
   "metadata": {
    "colab_type": "text",
    "id": "QOI7X2YgCAY_"
   },
   "source": [
    "# [1]. Reading Data"
   ]
  },
  {
   "cell_type": "code",
   "execution_count": 0,
   "metadata": {
    "colab": {
     "base_uri": "https://localhost:8080/",
     "height": 425
    },
    "colab_type": "code",
    "id": "3iYH2p1ECAZA",
    "outputId": "89f9de12-65c1-4d30-8180-828b3a5af229"
   },
   "outputs": [
    {
     "name": "stdout",
     "output_type": "stream",
     "text": [
      "Number of data points in our data (300000, 10)\n"
     ]
    },
    {
     "data": {
      "text/html": [
       "<div>\n",
       "<style scoped>\n",
       "    .dataframe tbody tr th:only-of-type {\n",
       "        vertical-align: middle;\n",
       "    }\n",
       "\n",
       "    .dataframe tbody tr th {\n",
       "        vertical-align: top;\n",
       "    }\n",
       "\n",
       "    .dataframe thead th {\n",
       "        text-align: right;\n",
       "    }\n",
       "</style>\n",
       "<table border=\"1\" class=\"dataframe\">\n",
       "  <thead>\n",
       "    <tr style=\"text-align: right;\">\n",
       "      <th></th>\n",
       "      <th>Id</th>\n",
       "      <th>ProductId</th>\n",
       "      <th>UserId</th>\n",
       "      <th>ProfileName</th>\n",
       "      <th>HelpfulnessNumerator</th>\n",
       "      <th>HelpfulnessDenominator</th>\n",
       "      <th>Score</th>\n",
       "      <th>Time</th>\n",
       "      <th>Summary</th>\n",
       "      <th>Text</th>\n",
       "    </tr>\n",
       "  </thead>\n",
       "  <tbody>\n",
       "    <tr>\n",
       "      <th>0</th>\n",
       "      <td>1</td>\n",
       "      <td>B001E4KFG0</td>\n",
       "      <td>A3SGXH7AUHU8GW</td>\n",
       "      <td>delmartian</td>\n",
       "      <td>1</td>\n",
       "      <td>1</td>\n",
       "      <td>1</td>\n",
       "      <td>1303862400</td>\n",
       "      <td>Good Quality Dog Food</td>\n",
       "      <td>I have bought several of the Vitality canned d...</td>\n",
       "    </tr>\n",
       "    <tr>\n",
       "      <th>1</th>\n",
       "      <td>2</td>\n",
       "      <td>B00813GRG4</td>\n",
       "      <td>A1D87F6ZCVE5NK</td>\n",
       "      <td>dll pa</td>\n",
       "      <td>0</td>\n",
       "      <td>0</td>\n",
       "      <td>0</td>\n",
       "      <td>1346976000</td>\n",
       "      <td>Not as Advertised</td>\n",
       "      <td>Product arrived labeled as Jumbo Salted Peanut...</td>\n",
       "    </tr>\n",
       "    <tr>\n",
       "      <th>2</th>\n",
       "      <td>3</td>\n",
       "      <td>B000LQOCH0</td>\n",
       "      <td>ABXLMWJIXXAIN</td>\n",
       "      <td>Natalia Corres \"Natalia Corres\"</td>\n",
       "      <td>1</td>\n",
       "      <td>1</td>\n",
       "      <td>1</td>\n",
       "      <td>1219017600</td>\n",
       "      <td>\"Delight\" says it all</td>\n",
       "      <td>This is a confection that has been around a fe...</td>\n",
       "    </tr>\n",
       "  </tbody>\n",
       "</table>\n",
       "</div>"
      ],
      "text/plain": [
       "   Id  ...                                               Text\n",
       "0   1  ...  I have bought several of the Vitality canned d...\n",
       "1   2  ...  Product arrived labeled as Jumbo Salted Peanut...\n",
       "2   3  ...  This is a confection that has been around a fe...\n",
       "\n",
       "[3 rows x 10 columns]"
      ]
     },
     "execution_count": 4,
     "metadata": {
      "tags": []
     },
     "output_type": "execute_result"
    }
   ],
   "source": [
    "# using the SQLite Table to read data.\n",
    "con = sqlite3.connect('/content/drive/My Drive/kaggle/amazon/Amz_unzip/database.sqlite') \n",
    "#filtering only positive and negative reviews i.e. \n",
    "# not taking into consideration those reviews with Score=3\n",
    "# SELECT * FROM Reviews WHERE Score != 3 LIMIT 500000, will give top 500000 data points\n",
    "# you can change the number to any other number based on your computing power\n",
    "\n",
    "# filtered_data = pd.read_sql_query(\"\"\" SELECT * FROM Reviews WHERE Score != 3 LIMIT 500000\"\"\", con) \n",
    "# for tsne assignment you can take 5k data points\n",
    "\n",
    "filtered_data = pd.read_sql_query(\"\"\" SELECT * FROM Reviews WHERE Score != 3 LIMIT 300000\"\"\", con) \n",
    "\n",
    "# Give reviews with Score>3 a positive rating, and reviews with a score<3 a negative rating.\n",
    "def partition(x):\n",
    "    if x < 3:\n",
    "        return 0\n",
    "    return 1\n",
    "\n",
    "#changing reviews with score less than 3 to be positive and vice-versa\n",
    "actualScore = filtered_data['Score']\n",
    "positiveNegative = actualScore.map(partition) \n",
    "filtered_data['Score'] = positiveNegative\n",
    "print(\"Number of data points in our data\", filtered_data.shape)\n",
    "filtered_data.head(3)"
   ]
  },
  {
   "cell_type": "markdown",
   "metadata": {
    "colab_type": "text",
    "id": "TX5b3dc5CAZS"
   },
   "source": [
    "#  Exploratory Data Analysis\n",
    "\n",
    "## [2] Data Cleaning: Deduplication\n",
    "\n",
    "It is observed (as shown in the table below) that the reviews data had many duplicate entries. Hence it was necessary to remove duplicates in order to get unbiased results for the analysis of the data.  Following is an example:"
   ]
  },
  {
   "cell_type": "code",
   "execution_count": 0,
   "metadata": {
    "colab": {
     "base_uri": "https://localhost:8080/",
     "height": 551
    },
    "colab_type": "code",
    "id": "4jW_0WxCCAZT",
    "outputId": "9422b36d-7961-45c0-9ebd-4381013cd352",
    "scrolled": false
   },
   "outputs": [
    {
     "data": {
      "text/html": [
       "<div>\n",
       "<style scoped>\n",
       "    .dataframe tbody tr th:only-of-type {\n",
       "        vertical-align: middle;\n",
       "    }\n",
       "\n",
       "    .dataframe tbody tr th {\n",
       "        vertical-align: top;\n",
       "    }\n",
       "\n",
       "    .dataframe thead th {\n",
       "        text-align: right;\n",
       "    }\n",
       "</style>\n",
       "<table border=\"1\" class=\"dataframe\">\n",
       "  <thead>\n",
       "    <tr style=\"text-align: right;\">\n",
       "      <th></th>\n",
       "      <th>Id</th>\n",
       "      <th>ProductId</th>\n",
       "      <th>UserId</th>\n",
       "      <th>ProfileName</th>\n",
       "      <th>HelpfulnessNumerator</th>\n",
       "      <th>HelpfulnessDenominator</th>\n",
       "      <th>Score</th>\n",
       "      <th>Time</th>\n",
       "      <th>Summary</th>\n",
       "      <th>Text</th>\n",
       "    </tr>\n",
       "  </thead>\n",
       "  <tbody>\n",
       "    <tr>\n",
       "      <th>0</th>\n",
       "      <td>78445</td>\n",
       "      <td>B000HDL1RQ</td>\n",
       "      <td>AR5J8UI46CURR</td>\n",
       "      <td>Geetha Krishnan</td>\n",
       "      <td>2</td>\n",
       "      <td>2</td>\n",
       "      <td>5</td>\n",
       "      <td>1199577600</td>\n",
       "      <td>LOACKER QUADRATINI VANILLA WAFERS</td>\n",
       "      <td>DELICIOUS WAFERS. I FIND THAT EUROPEAN WAFERS ...</td>\n",
       "    </tr>\n",
       "    <tr>\n",
       "      <th>1</th>\n",
       "      <td>138317</td>\n",
       "      <td>B000HDOPYC</td>\n",
       "      <td>AR5J8UI46CURR</td>\n",
       "      <td>Geetha Krishnan</td>\n",
       "      <td>2</td>\n",
       "      <td>2</td>\n",
       "      <td>5</td>\n",
       "      <td>1199577600</td>\n",
       "      <td>LOACKER QUADRATINI VANILLA WAFERS</td>\n",
       "      <td>DELICIOUS WAFERS. I FIND THAT EUROPEAN WAFERS ...</td>\n",
       "    </tr>\n",
       "    <tr>\n",
       "      <th>2</th>\n",
       "      <td>138277</td>\n",
       "      <td>B000HDOPYM</td>\n",
       "      <td>AR5J8UI46CURR</td>\n",
       "      <td>Geetha Krishnan</td>\n",
       "      <td>2</td>\n",
       "      <td>2</td>\n",
       "      <td>5</td>\n",
       "      <td>1199577600</td>\n",
       "      <td>LOACKER QUADRATINI VANILLA WAFERS</td>\n",
       "      <td>DELICIOUS WAFERS. I FIND THAT EUROPEAN WAFERS ...</td>\n",
       "    </tr>\n",
       "    <tr>\n",
       "      <th>3</th>\n",
       "      <td>73791</td>\n",
       "      <td>B000HDOPZG</td>\n",
       "      <td>AR5J8UI46CURR</td>\n",
       "      <td>Geetha Krishnan</td>\n",
       "      <td>2</td>\n",
       "      <td>2</td>\n",
       "      <td>5</td>\n",
       "      <td>1199577600</td>\n",
       "      <td>LOACKER QUADRATINI VANILLA WAFERS</td>\n",
       "      <td>DELICIOUS WAFERS. I FIND THAT EUROPEAN WAFERS ...</td>\n",
       "    </tr>\n",
       "    <tr>\n",
       "      <th>4</th>\n",
       "      <td>155049</td>\n",
       "      <td>B000PAQ75C</td>\n",
       "      <td>AR5J8UI46CURR</td>\n",
       "      <td>Geetha Krishnan</td>\n",
       "      <td>2</td>\n",
       "      <td>2</td>\n",
       "      <td>5</td>\n",
       "      <td>1199577600</td>\n",
       "      <td>LOACKER QUADRATINI VANILLA WAFERS</td>\n",
       "      <td>DELICIOUS WAFERS. I FIND THAT EUROPEAN WAFERS ...</td>\n",
       "    </tr>\n",
       "  </tbody>\n",
       "</table>\n",
       "</div>"
      ],
      "text/plain": [
       "       Id  ...                                               Text\n",
       "0   78445  ...  DELICIOUS WAFERS. I FIND THAT EUROPEAN WAFERS ...\n",
       "1  138317  ...  DELICIOUS WAFERS. I FIND THAT EUROPEAN WAFERS ...\n",
       "2  138277  ...  DELICIOUS WAFERS. I FIND THAT EUROPEAN WAFERS ...\n",
       "3   73791  ...  DELICIOUS WAFERS. I FIND THAT EUROPEAN WAFERS ...\n",
       "4  155049  ...  DELICIOUS WAFERS. I FIND THAT EUROPEAN WAFERS ...\n",
       "\n",
       "[5 rows x 10 columns]"
      ]
     },
     "execution_count": 5,
     "metadata": {
      "tags": []
     },
     "output_type": "execute_result"
    }
   ],
   "source": [
    "display= pd.read_sql_query(\"\"\"\n",
    "SELECT *\n",
    "FROM Reviews\n",
    "WHERE Score != 3 AND UserId=\"AR5J8UI46CURR\"\n",
    "ORDER BY ProductID\n",
    "\"\"\", con)\n",
    "display.head()"
   ]
  },
  {
   "cell_type": "markdown",
   "metadata": {
    "colab_type": "text",
    "id": "BzVTlHiMCAZV"
   },
   "source": [
    "As can be seen above the same user has multiple reviews of the with the same values for HelpfulnessNumerator, HelpfulnessDenominator, Score, Time, Summary and Text  and on doing analysis it was found that <br>\n",
    "<br> \n",
    "ProductId=B000HDOPZG was Loacker Quadratini Vanilla Wafer Cookies, 8.82-Ounce Packages (Pack of 8)<br>\n",
    "<br> \n",
    "ProductId=B000HDL1RQ was Loacker Quadratini Lemon Wafer Cookies, 8.82-Ounce Packages (Pack of 8) and so on<br>\n",
    "\n",
    "It was inferred after analysis that reviews with same parameters other than ProductId belonged to the same product just having different flavour or quantity. Hence in order to reduce redundancy it was decided to eliminate the rows having same parameters.<br>\n",
    "\n",
    "The method used for the same was that we first sort the data according to ProductId and then just keep the first similar product review and delelte the others. for eg. in the above just the review for ProductId=B000HDL1RQ remains. This method ensures that there is only one representative for each product and deduplication without sorting would lead to possibility of different representatives still existing for the same product."
   ]
  },
  {
   "cell_type": "code",
   "execution_count": 0,
   "metadata": {
    "colab": {},
    "colab_type": "code",
    "id": "DGy2NM7BCAZX"
   },
   "outputs": [],
   "source": [
    "#Sorting data according to ProductId in ascending order\n",
    "sorted_data=filtered_data.sort_values('ProductId', axis=0, ascending=True, inplace=False, kind='quicksort', na_position='last')"
   ]
  },
  {
   "cell_type": "code",
   "execution_count": 0,
   "metadata": {
    "colab": {
     "base_uri": "https://localhost:8080/",
     "height": 34
    },
    "colab_type": "code",
    "id": "8b-O13XVCAZZ",
    "outputId": "ce8bd19e-128c-4886-9190-a4e2db720e24"
   },
   "outputs": [
    {
     "data": {
      "text/plain": [
       "(228569, 10)"
      ]
     },
     "execution_count": 7,
     "metadata": {
      "tags": []
     },
     "output_type": "execute_result"
    }
   ],
   "source": [
    "#Deduplication of entries\n",
    "final=sorted_data.drop_duplicates(subset={\"UserId\",\"ProfileName\",\"Time\",\"Text\"}, keep='first', inplace=False)\n",
    "final.shape"
   ]
  },
  {
   "cell_type": "code",
   "execution_count": 0,
   "metadata": {
    "colab": {
     "base_uri": "https://localhost:8080/",
     "height": 34
    },
    "colab_type": "code",
    "id": "S72Yh-rHCAZc",
    "outputId": "ac5d1f0b-f62d-48a4-f408-8b54674f1ed3"
   },
   "outputs": [
    {
     "data": {
      "text/plain": [
       "76.18966666666667"
      ]
     },
     "execution_count": 8,
     "metadata": {
      "tags": []
     },
     "output_type": "execute_result"
    }
   ],
   "source": [
    "#Checking to see how much % of data still remains\n",
    "(final['Id'].size*1.0)/(filtered_data['Id'].size*1.0)*100"
   ]
  },
  {
   "cell_type": "markdown",
   "metadata": {
    "colab_type": "text",
    "id": "LO5nLKeFCAZf"
   },
   "source": [
    "<b>Observation:-</b> It was also seen that in two rows given below the value of HelpfulnessNumerator is greater than HelpfulnessDenominator which is not practically possible hence these two rows too are removed from calcualtions"
   ]
  },
  {
   "cell_type": "code",
   "execution_count": 0,
   "metadata": {
    "colab": {
     "base_uri": "https://localhost:8080/",
     "height": 328
    },
    "colab_type": "code",
    "id": "L9z5lrsiCAZh",
    "outputId": "5685b32a-eaa8-46ac-e1b6-b2ee631c3dbf"
   },
   "outputs": [
    {
     "data": {
      "text/html": [
       "<div>\n",
       "<style scoped>\n",
       "    .dataframe tbody tr th:only-of-type {\n",
       "        vertical-align: middle;\n",
       "    }\n",
       "\n",
       "    .dataframe tbody tr th {\n",
       "        vertical-align: top;\n",
       "    }\n",
       "\n",
       "    .dataframe thead th {\n",
       "        text-align: right;\n",
       "    }\n",
       "</style>\n",
       "<table border=\"1\" class=\"dataframe\">\n",
       "  <thead>\n",
       "    <tr style=\"text-align: right;\">\n",
       "      <th></th>\n",
       "      <th>Id</th>\n",
       "      <th>ProductId</th>\n",
       "      <th>UserId</th>\n",
       "      <th>ProfileName</th>\n",
       "      <th>HelpfulnessNumerator</th>\n",
       "      <th>HelpfulnessDenominator</th>\n",
       "      <th>Score</th>\n",
       "      <th>Time</th>\n",
       "      <th>Summary</th>\n",
       "      <th>Text</th>\n",
       "    </tr>\n",
       "  </thead>\n",
       "  <tbody>\n",
       "    <tr>\n",
       "      <th>0</th>\n",
       "      <td>64422</td>\n",
       "      <td>B000MIDROQ</td>\n",
       "      <td>A161DK06JJMCYF</td>\n",
       "      <td>J. E. Stephens \"Jeanne\"</td>\n",
       "      <td>3</td>\n",
       "      <td>1</td>\n",
       "      <td>5</td>\n",
       "      <td>1224892800</td>\n",
       "      <td>Bought This for My Son at College</td>\n",
       "      <td>My son loves spaghetti so I didn't hesitate or...</td>\n",
       "    </tr>\n",
       "    <tr>\n",
       "      <th>1</th>\n",
       "      <td>44737</td>\n",
       "      <td>B001EQ55RW</td>\n",
       "      <td>A2V0I904FH7ABY</td>\n",
       "      <td>Ram</td>\n",
       "      <td>3</td>\n",
       "      <td>2</td>\n",
       "      <td>4</td>\n",
       "      <td>1212883200</td>\n",
       "      <td>Pure cocoa taste with crunchy almonds inside</td>\n",
       "      <td>It was almost a 'love at first bite' - the per...</td>\n",
       "    </tr>\n",
       "  </tbody>\n",
       "</table>\n",
       "</div>"
      ],
      "text/plain": [
       "      Id  ...                                               Text\n",
       "0  64422  ...  My son loves spaghetti so I didn't hesitate or...\n",
       "1  44737  ...  It was almost a 'love at first bite' - the per...\n",
       "\n",
       "[2 rows x 10 columns]"
      ]
     },
     "execution_count": 9,
     "metadata": {
      "tags": []
     },
     "output_type": "execute_result"
    }
   ],
   "source": [
    "display= pd.read_sql_query(\"\"\"\n",
    "SELECT *\n",
    "FROM Reviews\n",
    "WHERE Score != 3 AND Id=44737 OR Id=64422\n",
    "ORDER BY ProductID\n",
    "\"\"\", con)\n",
    "\n",
    "display.head()"
   ]
  },
  {
   "cell_type": "code",
   "execution_count": 0,
   "metadata": {
    "colab": {},
    "colab_type": "code",
    "id": "8Tphk1piCAZk"
   },
   "outputs": [],
   "source": [
    "final=final[final.HelpfulnessNumerator<=final.HelpfulnessDenominator]"
   ]
  },
  {
   "cell_type": "code",
   "execution_count": 0,
   "metadata": {
    "colab": {
     "base_uri": "https://localhost:8080/",
     "height": 84
    },
    "colab_type": "code",
    "id": "8TpsGDdJCAZm",
    "outputId": "14695db5-9608-461b-ffdc-3598b4bb9e94"
   },
   "outputs": [
    {
     "name": "stdout",
     "output_type": "stream",
     "text": [
      "(228567, 10)\n"
     ]
    },
    {
     "data": {
      "text/plain": [
       "1    192377\n",
       "0     36190\n",
       "Name: Score, dtype: int64"
      ]
     },
     "execution_count": 11,
     "metadata": {
      "tags": []
     },
     "output_type": "execute_result"
    }
   ],
   "source": [
    "#Before starting the next phase of preprocessing lets see the number of entries left\n",
    "print(final.shape)\n",
    "\n",
    "#How many positive and negative reviews are present in our dataset?\n",
    "final['Score'].value_counts()"
   ]
  },
  {
   "cell_type": "markdown",
   "metadata": {
    "colab_type": "text",
    "id": "RxBsuBylCAZr"
   },
   "source": [
    "# [3].  Text Preprocessing.\n",
    "\n",
    "Now that we have finished deduplication our data requires some preprocessing before we go on further with analysis and making the prediction model.\n",
    "\n",
    "Hence in the Preprocessing phase we do the following in the order below:-\n",
    "\n",
    "1. Begin by removing the html tags\n",
    "2. Remove any punctuations or limited set of special characters like , or . or # etc.\n",
    "3. Check if the word is made up of english letters and is not alpha-numeric\n",
    "4. Check to see if the length of the word is greater than 2 (as it was researched that there is no adjective in 2-letters)\n",
    "5. Convert the word to lowercase\n",
    "6. Remove Stopwords\n",
    "7. Finally Snowball Stemming the word (it was obsereved to be better than Porter Stemming)<br>\n",
    "\n",
    "After which we collect the words used to describe positive and negative reviews"
   ]
  },
  {
   "cell_type": "code",
   "execution_count": 0,
   "metadata": {
    "colab": {},
    "colab_type": "code",
    "id": "lNHWbzBaCAZ3"
   },
   "outputs": [],
   "source": [
    "# https://stackoverflow.com/a/47091490/4084039\n",
    "import re\n",
    "\n",
    "def decontracted(phrase):\n",
    "    # specific\n",
    "    phrase = re.sub(r\"won't\", \"will not\", phrase)\n",
    "    phrase = re.sub(r\"can\\'t\", \"can not\", phrase)\n",
    "\n",
    "    # general\n",
    "    phrase = re.sub(r\"n\\'t\", \" not\", phrase)\n",
    "    phrase = re.sub(r\"\\'re\", \" are\", phrase)\n",
    "    phrase = re.sub(r\"\\'s\", \" is\", phrase)\n",
    "    phrase = re.sub(r\"\\'d\", \" would\", phrase)\n",
    "    phrase = re.sub(r\"\\'ll\", \" will\", phrase)\n",
    "    phrase = re.sub(r\"\\'t\", \" not\", phrase)\n",
    "    phrase = re.sub(r\"\\'ve\", \" have\", phrase)\n",
    "    phrase = re.sub(r\"\\'m\", \" am\", phrase)\n",
    "    return phrase"
   ]
  },
  {
   "cell_type": "code",
   "execution_count": 0,
   "metadata": {
    "colab": {},
    "colab_type": "code",
    "id": "Xsr4xHkJCAaA"
   },
   "outputs": [],
   "source": [
    "# https://gist.github.com/sebleier/554280\n",
    "# we are removing the words from the stop words list: 'no', 'nor', 'not'\n",
    "# <br /><br /> ==> after the above steps, we are getting \"br br\"\n",
    "# we are including them into stop words list\n",
    "# instead of <br /> if we have <br/> these tags would have revmoved in the 1st step\n",
    "\n",
    "stopwords= set(['br', 'the', 'i', 'me', 'my', 'myself', 'we', 'our', 'ours', 'ourselves', 'you', \"you're\", \"you've\",\\\n",
    "            \"you'll\", \"you'd\", 'your', 'yours', 'yourself', 'yourselves', 'he', 'him', 'his', 'himself', \\\n",
    "            'she', \"she's\", 'her', 'hers', 'herself', 'it', \"it's\", 'its', 'itself', 'they', 'them', 'their',\\\n",
    "            'theirs', 'themselves', 'what', 'which', 'who', 'whom', 'this', 'that', \"that'll\", 'these', 'those', \\\n",
    "            'am', 'is', 'are', 'was', 'were', 'be', 'been', 'being', 'have', 'has', 'had', 'having', 'do', 'does', \\\n",
    "            'did', 'doing', 'a', 'an', 'the', 'and', 'but', 'if', 'or', 'because', 'as', 'until', 'while', 'of', \\\n",
    "            'at', 'by', 'for', 'with', 'about', 'against', 'between', 'into', 'through', 'during', 'before', 'after',\\\n",
    "            'above', 'below', 'to', 'from', 'up', 'down', 'in', 'out', 'on', 'off', 'over', 'under', 'again', 'further',\\\n",
    "            'then', 'once', 'here', 'there', 'when', 'where', 'why', 'how', 'all', 'any', 'both', 'each', 'few', 'more',\\\n",
    "            'most', 'other', 'some', 'such', 'only', 'own', 'same', 'so', 'than', 'too', 'very', \\\n",
    "            's', 't', 'can', 'will', 'just', 'don', \"don't\", 'should', \"should've\", 'now', 'd', 'll', 'm', 'o', 're', \\\n",
    "            've', 'y', 'ain', 'aren', \"aren't\", 'couldn', \"couldn't\", 'didn', \"didn't\", 'doesn', \"doesn't\", 'hadn',\\\n",
    "            \"hadn't\", 'hasn', \"hasn't\", 'haven', \"haven't\", 'isn', \"isn't\", 'ma', 'mightn', \"mightn't\", 'mustn',\\\n",
    "            \"mustn't\", 'needn', \"needn't\", 'shan', \"shan't\", 'shouldn', \"shouldn't\", 'wasn', \"wasn't\", 'weren', \"weren't\", \\\n",
    "            'won', \"won't\", 'wouldn', \"wouldn't\"])"
   ]
  },
  {
   "cell_type": "code",
   "execution_count": 0,
   "metadata": {
    "colab": {
     "base_uri": "https://localhost:8080/",
     "height": 34
    },
    "colab_type": "code",
    "id": "MgsJ09NpCAaB",
    "outputId": "b1f6dca8-2cf5-4b8a-836a-607e621b52e6"
   },
   "outputs": [
    {
     "name": "stderr",
     "output_type": "stream",
     "text": [
      "100%|██████████| 228567/228567 [01:35<00:00, 2400.96it/s]\n"
     ]
    }
   ],
   "source": [
    "# Combining all the above stundents \n",
    "from bs4 import BeautifulSoup\n",
    "from tqdm import tqdm\n",
    "preprocessed_reviews = []\n",
    "# tqdm is for printing the status bar\n",
    "for sentance in tqdm(final['Text'].values):\n",
    "    sentance = re.sub(r\"http\\S+\", \"\", sentance)\n",
    "    sentance = BeautifulSoup(sentance, 'lxml').get_text()\n",
    "    sentance = decontracted(sentance)\n",
    "    sentance = re.sub(\"\\S*\\d\\S*\", \"\", sentance).strip()\n",
    "    sentance = re.sub('[^A-Za-z]+', ' ', sentance)\n",
    "    # https://gist.github.com/sebleier/554280\n",
    "    sentance = ' '.join(e.lower() for e in sentance.split() if e.lower() not in stopwords)\n",
    "    preprocessed_reviews.append(sentance.strip())\n",
    "final['preprocessed_reviews'] = preprocessed_reviews"
   ]
  },
  {
   "cell_type": "code",
   "execution_count": 0,
   "metadata": {
    "colab": {},
    "colab_type": "code",
    "id": "zdJNoRPyKFMF"
   },
   "outputs": [],
   "source": [
    "y = final[\"Score\"]\n",
    "x = final[\"preprocessed_reviews\"]"
   ]
  },
  {
   "cell_type": "markdown",
   "metadata": {
    "colab_type": "text",
    "id": "ytBZVEs2CAaL"
   },
   "source": [
    "# [4] Featurization"
   ]
  },
  {
   "cell_type": "code",
   "execution_count": 0,
   "metadata": {
    "colab": {},
    "colab_type": "code",
    "id": "dWPrZsdiJLq8"
   },
   "outputs": [],
   "source": [
    "#train test split\n",
    "from sklearn.model_selection import train_test_split\n",
    "x_train,X_val,y_train,Y_val = train_test_split(x,y,test_size =0.3,stratify =y,random_state=0 )\n",
    "x_cv,x_test,y_cv,y_test = train_test_split(X_val,Y_val,test_size =0.2,stratify =Y_val,random_state=0 )"
   ]
  },
  {
   "cell_type": "code",
   "execution_count": 0,
   "metadata": {
    "colab": {
     "base_uri": "https://localhost:8080/",
     "height": 67
    },
    "colab_type": "code",
    "id": "Dl0GWQ9wdPXN",
    "outputId": "0b81960c-9bc7-40b8-860a-27980f057391"
   },
   "outputs": [
    {
     "name": "stdout",
     "output_type": "stream",
     "text": [
      "Data points of X_train : 159996 \n",
      "Data points of X_cv : 54856\n",
      "Data points of X_test : 13715\n"
     ]
    }
   ],
   "source": [
    "print(\"Data points of X_train : {} \\nData points of X_cv : {}\\nData points of X_test : {}\".format(x_train.shape[0],x_cv.shape[0] ,x_test.shape[0]))"
   ]
  },
  {
   "cell_type": "markdown",
   "metadata": {
    "colab_type": "text",
    "id": "9amw6tMZCAaL"
   },
   "source": [
    "## [4.1] selecting important words"
   ]
  },
  {
   "cell_type": "code",
   "execution_count": 0,
   "metadata": {
    "colab": {
     "base_uri": "https://localhost:8080/",
     "height": 54
    },
    "colab_type": "code",
    "id": "6heiZFZ-CAaW",
    "outputId": "0a1fa1cb-fdf3-4565-8037-289eac461529"
   },
   "outputs": [
    {
     "name": "stdout",
     "output_type": "stream",
     "text": [
      "some sample features(unique words in the corpus) ['aa', 'aaa', 'aaaa', 'aaaaa', 'aaaaaaaaaaaa', 'aaaaaaaaaaaaa', 'aaaaaaaaaaaaaaa', 'aaaaaaarrrrrggghhh', 'aaaaaahhhhhyaaaaaa', 'aaaaah']\n"
     ]
    }
   ],
   "source": [
    "#will see the idf values and select the words which have idf value which is not very low and not very high\n",
    "tf_idf_vect = TfidfVectorizer()\n",
    "tf_idf_vect.fit(x_train)\n",
    "print(\"some sample features(unique words in the corpus)\",tf_idf_vect.get_feature_names()[0:10])"
   ]
  },
  {
   "cell_type": "code",
   "execution_count": 0,
   "metadata": {
    "colab": {
     "base_uri": "https://localhost:8080/",
     "height": 301
    },
    "colab_type": "code",
    "id": "okn1ol3fMUHm",
    "outputId": "6c978946-1111-4656-cd7d-b20926308eee"
   },
   "outputs": [
    {
     "data": {
      "text/plain": [
       "Text(0, 0.5, 'num of words')"
      ]
     },
     "execution_count": 19,
     "metadata": {
      "tags": []
     },
     "output_type": "execute_result"
    },
    {
     "data": {
      "image/png": "[encoded data removed]",
      "text/plain": [
       "<Figure size 432x288 with 1 Axes>"
      ]
     },
     "metadata": {
      "tags": []
     },
     "output_type": "display_data"
    }
   ],
   "source": [
    "import seaborn\n",
    "seaborn.distplot(tf_idf_vect.idf_, axlabel=(\"idf value\"), label=\"idf value vs Number of words\")\n",
    "plt.ylabel(\"num of words\")"
   ]
  },
  {
   "cell_type": "code",
   "execution_count": 0,
   "metadata": {
    "colab": {
     "base_uri": "https://localhost:8080/",
     "height": 54
    },
    "colab_type": "code",
    "id": "iHosu2fJMrfS",
    "outputId": "70acde57-114a-4bda-ddc4-b6009e1b341a"
   },
   "outputs": [
    {
     "name": "stdout",
     "output_type": "stream",
     "text": [
      "sample featuers ['ability', 'able', 'absolute', 'absolutely', 'absorb', 'absorbed', 'acai', 'accept', 'acceptable', 'access']\n"
     ]
    }
   ],
   "source": [
    "#selecting 5000 top words with are not very rare and have high ifd value\n",
    "max_feat = 5000\n",
    "tf_idf_vect = TfidfVectorizer(min_df=6,max_features=max_feat)\n",
    "final_tf_idf_train = tf_idf_vect.fit_transform(x_train)\n",
    "print(\"sample featuers\",tf_idf_vect.get_feature_names()[:10])"
   ]
  },
  {
   "cell_type": "code",
   "execution_count": 0,
   "metadata": {
    "colab": {},
    "colab_type": "code",
    "id": "1iJhNQ9sae_2"
   },
   "outputs": [],
   "source": [
    "#storing words in list in the sorted order of count (decresing)\n",
    "encoding_lis=tf_idf_vect.get_feature_names()"
   ]
  },
  {
   "cell_type": "code",
   "execution_count": 0,
   "metadata": {
    "colab": {},
    "colab_type": "code",
    "id": "R-XaPJCXfNPm"
   },
   "outputs": [],
   "source": [
    "#removing words which are not in top 5000 words from all train document \n",
    "train_removed = []\n",
    "for sentence in x_train:\n",
    "   train_removed.append(list(filter(lambda x: x in encoding_lis,sentence.split(\" \"))))\n",
    "    \n",
    "#removing words which are not in top 5000 words from all cv document \n",
    "cv_removed = []\n",
    "for sentence in x_cv:\n",
    "   cv_removed.append(list(filter(lambda x: x in encoding_lis,sentence.split(\" \"))))\n",
    "    \n",
    "#removing words which are not in top 5000 words from all train document \n",
    "test_removed = []\n",
    "for sentence in x_test:\n",
    "   test_removed.append(list(filter(lambda x: x in encoding_lis,sentence.split(\" \"))))"
   ]
  },
  {
   "cell_type": "code",
   "execution_count": 0,
   "metadata": {
    "colab": {},
    "colab_type": "code",
    "id": "ej_4DeRjmKgS"
   },
   "outputs": [],
   "source": [
    "#encoding the words with the index they are sorted\n",
    "train_ecoded_ls = []\n",
    "for sentance_as_list in train_removed:\n",
    "  train_ecoded_ls.append(list(map(lambda x: encoding_lis.index(x)+1,sentance_as_list)))\n",
    "\n",
    "#encoding the words with the index they are sorted\n",
    "cv_ecoded_ls = []\n",
    "for sentance_as_list in cv_removed:\n",
    "  cv_ecoded_ls.append(list(map(lambda x: encoding_lis.index(x)+1,sentance_as_list)))\n",
    "  \n",
    "#encoding the words with the index they are sorted\n",
    "test_ecoded_ls = []\n",
    "for sentance_as_list in test_removed:\n",
    "  test_ecoded_ls.append(list(map(lambda x: encoding_lis.index(x)+1,sentance_as_list)))"
   ]
  },
  {
   "cell_type": "code",
   "execution_count": 0,
   "metadata": {
    "colab": {},
    "colab_type": "code",
    "id": "qG8gXmeJCmZk"
   },
   "outputs": [],
   "source": [
    "# Credits: https://machinelearningmastery.com/sequence-classification-lstm-recurrent-neural-networks-python-keras/\n",
    "# LSTM for sequence classification in the Amazon dataset\n",
    "import numpy\n",
    "from keras.models import Sequential\n",
    "from keras.layers import Dense\n",
    "from keras.layers import LSTM\n",
    "from keras.layers.embeddings import Embedding\n",
    "from keras.preprocessing import sequence\n",
    "# fix random seed for reproducibility\n",
    "numpy.random.seed(7)"
   ]
  },
  {
   "cell_type": "code",
   "execution_count": 0,
   "metadata": {
    "colab": {
     "base_uri": "https://localhost:8080/",
     "height": 791
    },
    "colab_type": "code",
    "id": "hGzKV8VhENYg",
    "outputId": "d68bbe6c-a2d7-4042-e8f6-8f43c562ac76"
   },
   "outputs": [
    {
     "name": "stdout",
     "output_type": "stream",
     "text": [
      "(159996, 600)\n",
      "[   0    0    0    0    0    0    0    0    0    0    0    0    0    0\n",
      "    0    0    0    0    0    0    0    0    0    0    0    0    0    0\n",
      "    0    0    0    0    0    0    0    0    0    0    0    0    0    0\n",
      "    0    0    0    0    0    0    0    0    0    0    0    0    0    0\n",
      "    0    0    0    0    0    0    0    0    0    0    0    0    0    0\n",
      "    0    0    0    0    0    0    0    0    0    0    0    0    0    0\n",
      "    0    0    0    0    0    0    0    0    0    0    0    0    0    0\n",
      "    0    0    0    0    0    0    0    0    0    0    0    0    0    0\n",
      "    0    0    0    0    0    0    0    0    0    0    0    0    0    0\n",
      "    0    0    0    0    0    0    0    0    0    0    0    0    0    0\n",
      "    0    0    0    0    0    0    0    0    0    0    0    0    0    0\n",
      "    0    0    0    0    0    0    0    0    0    0    0    0    0    0\n",
      "    0    0    0    0    0    0    0    0    0    0    0    0    0    0\n",
      "    0    0    0    0    0    0    0    0    0    0    0    0    0    0\n",
      "    0    0    0    0    0    0    0    0    0    0    0    0    0    0\n",
      "    0    0    0    0    0    0    0    0    0    0    0    0    0    0\n",
      "    0    0    0    0    0    0    0    0    0    0    0    0    0    0\n",
      "    0    0    0    0    0    0    0    0    0    0    0    0    0    0\n",
      "    0    0    0    0    0    0    0    0    0    0    0    0    0    0\n",
      "    0    0    0    0    0    0    0    0    0    0    0    0    0    0\n",
      "    0    0    0    0    0    0    0    0    0    0    0    0    0    0\n",
      "    0    0    0    0    0    0    0    0    0    0    0    0    0    0\n",
      "    0    0    0    0    0    0    0    0    0    0    0    0    0    0\n",
      "    0    0    0    0    0    0    0    0    0    0    0    0    0    0\n",
      "    0    0    0    0    0    0    0    0    0    0    0    0    0    0\n",
      "    0    0    0    0    0    0    0    0    0    0    0    0    0    0\n",
      "    0    0    0    0    0    0    0    0    0    0    0    0    0    0\n",
      "    0    0    0    0    0    0    0    0    0    0    0    0    0    0\n",
      "    0    0    0    0    0    0    0    0    0    0    0    0    0    0\n",
      "    0    0    0    0    0    0    0    0    0    0    0    0    0    0\n",
      "    0    0    0    0    0    0    0    0    0    0    0    0    0    0\n",
      "    0    0    0    0    0    0    0    0    0    0    0    0    0    0\n",
      "    0    0    0    0    0    0    0    0    0    0    0    0    0    0\n",
      "    0    0    0    0    0    0    0    0    0    0    0    0    0    0\n",
      "    0    0    0    0    0    0    0    0    0    0    0    0    0    0\n",
      "    0    0    0    0    0    0    0    0    0    0    0    0    0    0\n",
      "    0    0    0    0    0    0    0    0    0    0    0    0    0    0\n",
      "    0    0    0    0    0    0    0    0    0    0    0    0    0    0\n",
      "    0    0    0    0    0    0    0    0    0    0    0    0    0    0\n",
      "    0    0    0    0    0    0    0    0    0    0    0    0    0    0\n",
      " 1430 4433 1056 1024  978  133 2544 1611 2880 1503 4423 2473 2984  979\n",
      " 2984 4496 2909 2814 1763 3348 1867 4496 2608 3137 2543 4423 1614 4945\n",
      " 2474  978 1914 1661 4476 2138 2909 4632 3888  120 1838 2726]\n"
     ]
    }
   ],
   "source": [
    "# truncate and/or pad input sequences\n",
    "max_review_length = 600\n",
    "X_train = sequence.pad_sequences(train_ecoded_ls, maxlen=max_review_length)\n",
    "X_cv = sequence.pad_sequences(cv_ecoded_ls, maxlen=max_review_length)\n",
    "X_test = sequence.pad_sequences(test_ecoded_ls, maxlen=max_review_length)\n",
    "\n",
    "print(X_train.shape)\n",
    "print((X_train[1]))"
   ]
  },
  {
   "cell_type": "code",
   "execution_count": 0,
   "metadata": {
    "colab": {},
    "colab_type": "code",
    "id": "efYy8QrmflTx"
   },
   "outputs": [],
   "source": [
    "pd.DataFrame(X_train).to_csv(\"/content/drive/My Drive/kaggle/amazon/Amz_unzip/X_train.csv\")\n",
    "pd.DataFrame(X_cv).to_csv(\"/content/drive/My Drive/kaggle/amazon/Amz_unzip/X_cv.csv\")\n",
    "pd.DataFrame(X_test).to_csv(\"/content/drive/My Drive/kaggle/amazon/Amz_unzip/X_test.csv\")"
   ]
  },
  {
   "cell_type": "markdown",
   "metadata": {
    "colab_type": "text",
    "id": "iPDuOqs0zZgU"
   },
   "source": [
    "# 5 Building of Models"
   ]
  },
  {
   "cell_type": "markdown",
   "metadata": {
    "colab_type": "text",
    "id": "Ejc1eBSmyX6f"
   },
   "source": [
    "# 5.1 Single layer of LSTM "
   ]
  },
  {
   "cell_type": "code",
   "execution_count": 0,
   "metadata": {
    "colab": {
     "base_uri": "https://localhost:8080/",
     "height": 269
    },
    "colab_type": "code",
    "id": "3JK1cSpeE9As",
    "outputId": "1bed82cd-25d8-4c40-8aa4-fe3b8008c2fc"
   },
   "outputs": [
    {
     "name": "stdout",
     "output_type": "stream",
     "text": [
      "Model: \"sequential_3\"\n",
      "_________________________________________________________________\n",
      "Layer (type)                 Output Shape              Param #   \n",
      "=================================================================\n",
      "embedding_1 (Embedding)      (None, 600, 32)           160032    \n",
      "_________________________________________________________________\n",
      "lstm_1 (LSTM)                (None, 100)               53200     \n",
      "_________________________________________________________________\n",
      "dense_1 (Dense)              (None, 1)                 101       \n",
      "=================================================================\n",
      "Total params: 213,333\n",
      "Trainable params: 213,333\n",
      "Non-trainable params: 0\n",
      "_________________________________________________________________\n",
      "None\n"
     ]
    }
   ],
   "source": [
    "# create the model\n",
    "embedding_vecor_length = 32\n",
    "model = Sequential()\n",
    "model.add(Embedding(max_feat+1, embedding_vecor_length, input_length=max_review_length))\n",
    "model.add(LSTM(100))\n",
    "model.add(Dense(1, activation='sigmoid'))\n",
    "model.compile(loss='binary_crossentropy', optimizer='adam', metrics=['accuracy'])\n",
    "print(model.summary())\n",
    "#Refer: https://datascience.stackexchange.com/questions/10615/number-of-parameters-in-an-lstm-model"
   ]
  },
  {
   "cell_type": "code",
   "execution_count": 0,
   "metadata": {
    "colab": {
     "base_uri": "https://localhost:8080/",
     "height": 406
    },
    "colab_type": "code",
    "id": "G0FYKBd2Vx5Z",
    "outputId": "4b6093fd-757e-4670-a65a-1ac0984634ed"
   },
   "outputs": [
    {
     "name": "stdout",
     "output_type": "stream",
     "text": [
      "Train on 159996 samples, validate on 54856 samples\n",
      "Epoch 1/10\n",
      "159996/159996 [==============================] - 610s 4ms/step - loss: 0.2410 - acc: 0.9065 - val_loss: 0.1910 - val_acc: 0.9251\n",
      "Epoch 2/10\n",
      "159996/159996 [==============================] - 613s 4ms/step - loss: 0.1815 - acc: 0.9296 - val_loss: 0.1875 - val_acc: 0.9260\n",
      "Epoch 3/10\n",
      "159996/159996 [==============================] - 616s 4ms/step - loss: 0.1695 - acc: 0.9342 - val_loss: 0.1798 - val_acc: 0.9298\n",
      "Epoch 4/10\n",
      "159996/159996 [==============================] - 616s 4ms/step - loss: 0.1575 - acc: 0.9394 - val_loss: 0.1753 - val_acc: 0.9312\n",
      "Epoch 5/10\n",
      "159996/159996 [==============================] - 613s 4ms/step - loss: 0.1452 - acc: 0.9443 - val_loss: 0.1773 - val_acc: 0.9305\n",
      "Epoch 6/10\n",
      "159996/159996 [==============================] - 608s 4ms/step - loss: 0.1338 - acc: 0.9496 - val_loss: 0.1816 - val_acc: 0.9322\n",
      "Epoch 7/10\n",
      "159996/159996 [==============================] - 615s 4ms/step - loss: 0.1240 - acc: 0.9528 - val_loss: 0.1839 - val_acc: 0.9315\n",
      "Epoch 8/10\n",
      "159996/159996 [==============================] - 624s 4ms/step - loss: 0.1139 - acc: 0.9572 - val_loss: 0.1839 - val_acc: 0.9326\n",
      "Epoch 9/10\n",
      "159996/159996 [==============================] - 634s 4ms/step - loss: 0.1053 - acc: 0.9609 - val_loss: 0.1822 - val_acc: 0.9325\n",
      "Epoch 10/10\n",
      "159996/159996 [==============================] - 645s 4ms/step - loss: 0.0973 - acc: 0.9641 - val_loss: 0.1912 - val_acc: 0.9319\n"
     ]
    }
   ],
   "source": [
    "#Training model\n",
    "epochs = 10\n",
    "history = model.fit(X_train, y_train, nb_epoch=epochs, batch_size=248,validation_data = (X_cv,y_cv))"
   ]
  },
  {
   "cell_type": "code",
   "execution_count": 0,
   "metadata": {
    "colab": {
     "base_uri": "https://localhost:8080/",
     "height": 52
    },
    "colab_type": "code",
    "id": "n0y3lF6ITjro",
    "outputId": "ba953fa0-c4ad-4790-b1bc-dabc7b3ab908"
   },
   "outputs": [
    {
     "name": "stdout",
     "output_type": "stream",
     "text": [
      "Test loss: 0.20217405816650807\n",
      "Test accuracy: 0.9310244258198476\n"
     ]
    }
   ],
   "source": [
    "# Final evaluation of the model\n",
    "score = model.evaluate(X_test, y_test, verbose=0)\n",
    "print('Test loss:', score[0])\n",
    "print('Test accuracy:', score[1])"
   ]
  },
  {
   "cell_type": "code",
   "execution_count": 0,
   "metadata": {
    "colab": {},
    "colab_type": "code",
    "id": "fv1cv-R6UQUS"
   },
   "outputs": [],
   "source": [
    "#function to plot graph\n",
    "%matplotlib notebook\n",
    "%matplotlib inline\n",
    "import matplotlib.pyplot as plt\n",
    "import numpy as np\n",
    "import time\n",
    "# https://gist.github.com/greydanus/f6eee59eaf1d90fcb3b534a25362cea4\n",
    "# https://stackoverflow.com/a/14434334\n",
    "# this function is used to update the plots for each epoch and error\n",
    "def plt_dynamic(x, vy, ty, ax, colors=['b']):\n",
    "    ax.plot(x, vy, 'b', label=\"Validation Loss\")\n",
    "    ax.plot(x, ty, 'r', label=\"Train Loss\")\n",
    "    plt.legend()\n",
    "    plt.grid()\n",
    "    fig.canvas.draw()"
   ]
  },
  {
   "cell_type": "code",
   "execution_count": 0,
   "metadata": {
    "colab": {
     "base_uri": "https://localhost:8080/",
     "height": 283
    },
    "colab_type": "code",
    "id": "Fwpqc-28V_Zf",
    "outputId": "f707e6e7-b304-4b10-9764-9eae129b121c"
   },
   "outputs": [
    {
     "data": {
      "image/png": "[encoded data removed]",
      "text/plain": [
       "<Figure size 432x288 with 1 Axes>"
      ]
     },
     "metadata": {
      "tags": []
     },
     "output_type": "display_data"
    }
   ],
   "source": [
    "fig,ax = plt.subplots(1,1)\n",
    "ax.set_xlabel('epoch') ; ax.set_ylabel('Categorical Crossentropy Loss')\n",
    "\n",
    "# list of epoch numbers\n",
    "x = list(range(1,epochs+1))\n",
    "\n",
    "# print(history.history.keys())\n",
    "# dict_keys(['val_loss', 'val_acc', 'loss', 'acc'])\n",
    "# history = model_drop.fit(X_train, Y_train, batch_size=batch_size, epochs=nb_epoch, verbose=1, validation_data=(X_test, Y_test))\n",
    "\n",
    "# we will get val_loss and val_acc only when you pass the paramter validation_data\n",
    "# val_loss : validation loss\n",
    "# val_acc : validation accuracy\n",
    "\n",
    "# loss : training loss\n",
    "# acc : train accuracy\n",
    "# for each key in histrory.histrory we will have a list of length equal to number of epochs\n",
    "\n",
    "vy = history.history['val_loss']\n",
    "ty = history.history['loss']\n",
    "plt_dynamic(x, vy, ty, ax)"
   ]
  },
  {
   "cell_type": "markdown",
   "metadata": {
    "colab_type": "text",
    "id": "jKgW8qbrJtKd"
   },
   "source": [
    "The model is getting overfitted as we can see the difference between train and test loss is we increase as the the epoch increases.so we will try Neural Network with multi Layered LSTM and see the results below."
   ]
  },
  {
   "cell_type": "markdown",
   "metadata": {
    "colab_type": "text",
    "id": "HWxFGAhkysdf"
   },
   "source": [
    "# 5.2 Multi Layered LSTM"
   ]
  },
  {
   "cell_type": "code",
   "execution_count": 0,
   "metadata": {
    "colab": {},
    "colab_type": "code",
    "id": "w5Zyps5kCO-Z"
   },
   "outputs": [],
   "source": [
    "# Credits: https://machinelearningmastery.com/sequence-classification-lstm-recurrent-neural-networks-python-keras/\n",
    "# LSTM for sequence classification in the Amazon dataset\n",
    "import numpy\n",
    "from keras.models import Sequential\n",
    "from keras.layers import Dense\n",
    "from keras.layers import LSTM\n",
    "from keras.layers.embeddings import Embedding\n",
    "from keras.preprocessing import sequence\n",
    "# fix random seed for reproducibility\n",
    "numpy.random.seed(7)"
   ]
  },
  {
   "cell_type": "code",
   "execution_count": 0,
   "metadata": {
    "colab": {},
    "colab_type": "code",
    "id": "I_HqGb247hoq"
   },
   "outputs": [],
   "source": [
    "X_train = pd.read_csv('/content/drive/My Drive/kaggle/amazon/Amz_unzip/X_train.csv').iloc[:,1:]\n",
    "X_test = pd.read_csv('/content/drive/My Drive/kaggle/amazon/Amz_unzip/X_test.csv').iloc[:,1:]\n",
    "X_cv = pd.read_csv('/content/drive/My Drive/kaggle/amazon/Amz_unzip/X_cv.csv').iloc[:,1:]"
   ]
  },
  {
   "cell_type": "code",
   "execution_count": 0,
   "metadata": {
    "colab": {
     "base_uri": "https://localhost:8080/",
     "height": 635
    },
    "colab_type": "code",
    "id": "OHdC5Soz8WHc",
    "outputId": "5d616482-15ce-46d4-e78d-f8371f5623c0"
   },
   "outputs": [
    {
     "name": "stdout",
     "output_type": "stream",
     "text": [
      "WARNING:tensorflow:From /usr/local/lib/python3.6/dist-packages/keras/backend/tensorflow_backend.py:66: The name tf.get_default_graph is deprecated. Please use tf.compat.v1.get_default_graph instead.\n",
      "\n",
      "WARNING:tensorflow:From /usr/local/lib/python3.6/dist-packages/keras/backend/tensorflow_backend.py:541: The name tf.placeholder is deprecated. Please use tf.compat.v1.placeholder instead.\n",
      "\n",
      "WARNING:tensorflow:From /usr/local/lib/python3.6/dist-packages/keras/backend/tensorflow_backend.py:4432: The name tf.random_uniform is deprecated. Please use tf.random.uniform instead.\n",
      "\n",
      "WARNING:tensorflow:From /usr/local/lib/python3.6/dist-packages/keras/backend/tensorflow_backend.py:4479: The name tf.truncated_normal is deprecated. Please use tf.random.truncated_normal instead.\n",
      "\n",
      "WARNING:tensorflow:From /usr/local/lib/python3.6/dist-packages/keras/optimizers.py:793: The name tf.train.Optimizer is deprecated. Please use tf.compat.v1.train.Optimizer instead.\n",
      "\n",
      "WARNING:tensorflow:From /usr/local/lib/python3.6/dist-packages/keras/backend/tensorflow_backend.py:3657: The name tf.log is deprecated. Please use tf.math.log instead.\n",
      "\n",
      "WARNING:tensorflow:From /usr/local/lib/python3.6/dist-packages/tensorflow/python/ops/nn_impl.py:180: add_dispatch_support.<locals>.wrapper (from tensorflow.python.ops.array_ops) is deprecated and will be removed in a future version.\n",
      "Instructions for updating:\n",
      "Use tf.where in 2.0, which has the same broadcast rule as np.where\n",
      "Model: \"sequential_1\"\n",
      "_________________________________________________________________\n",
      "Layer (type)                 Output Shape              Param #   \n",
      "=================================================================\n",
      "embedding_1 (Embedding)      (None, 600, 32)           160032    \n",
      "_________________________________________________________________\n",
      "lstm_1 (LSTM)                (None, 600, 50)           16600     \n",
      "_________________________________________________________________\n",
      "lstm_2 (LSTM)                (None, 30)                9720      \n",
      "_________________________________________________________________\n",
      "dense_1 (Dense)              (None, 300)               9300      \n",
      "_________________________________________________________________\n",
      "dense_2 (Dense)              (None, 1)                 301       \n",
      "=================================================================\n",
      "Total params: 195,953\n",
      "Trainable params: 195,953\n",
      "Non-trainable params: 0\n",
      "_________________________________________________________________\n",
      "None\n"
     ]
    }
   ],
   "source": [
    "max_feat = 5000\n",
    "max_review_length = 600\n",
    "embedding_vecor_length = 32\n",
    "\n",
    "from keras.callbacks import ModelCheckpoint\n",
    "\n",
    "#initilizing model\n",
    "model_2 = Sequential()\n",
    "\n",
    "#embedding layer which gives 64 dim vector for each batch \n",
    "model_2.add(Embedding(max_feat+1, embedding_vecor_length, input_length=max_review_length))\n",
    "\n",
    "#LSTM layer which takes 3D input and returnes output for each time step which can be passed to next layer LSTM\n",
    "#this is done by setting return_sequences=True \n",
    "#reference \"https://machinelearningmastery.com/stacked-long-short-term-memory-networks/\"\n",
    "model_2.add(LSTM(50,activation = 'relu',kernel_initializer = 'he_normal',return_sequences=True))\n",
    "\n",
    "#second layer of LSTM\n",
    "model_2.add(LSTM(30,activation = 'relu',kernel_initializer = 'he_normal'))\n",
    "\n",
    "#dense layer of size 300\n",
    "model_2.add(Dense(300,activation= 'relu',kernel_initializer = 'he_normal'))\n",
    "\n",
    "#dense layer of size 1\n",
    "model_2.add(Dense(1,activation= 'relu'))\n",
    "\n",
    "#callback\n",
    "Check_point =ModelCheckpoint('/content/drive/My Drive/kaggle/amazon/Amz_unzip/Amazon_best_Multi_LSTM_Model2.h5', monitor='val_loss', verbose=0, save_best_only=True, save_weights_only=False, mode='min', period=3)\n",
    "\n",
    "#compiling model\n",
    "model_2.compile(loss='binary_crossentropy', optimizer='adam', metrics=['accuracy'])\n",
    "\n",
    "\n",
    "print(model_2.summary())            "
   ]
  },
  {
   "cell_type": "code",
   "execution_count": 0,
   "metadata": {
    "colab": {
     "base_uri": "https://localhost:8080/",
     "height": 406
    },
    "colab_type": "code",
    "id": "Hg0olVFfjfrq",
    "outputId": "1ecfed9e-226b-4706-f4de-04e2875a11a4"
   },
   "outputs": [
    {
     "name": "stdout",
     "output_type": "stream",
     "text": [
      "Train on 159996 samples, validate on 54856 samples\n",
      "Epoch 1/10\n",
      "159996/159996 [==============================] - 923s 6ms/step - loss: 0.4720 - acc: 0.7927 - val_loss: 0.3195 - val_acc: 0.8717\n",
      "Epoch 2/10\n",
      "159996/159996 [==============================] - 904s 6ms/step - loss: 0.2995 - acc: 0.8676 - val_loss: 0.2844 - val_acc: 0.8707\n",
      "Epoch 3/10\n",
      "159996/159996 [==============================] - 919s 6ms/step - loss: 1.8848 - acc: 0.3033 - val_loss: 1.8911 - val_acc: 0.1583\n",
      "Epoch 4/10\n",
      "159996/159996 [==============================] - 934s 6ms/step - loss: 1.6843 - acc: 0.1583 - val_loss: 1.5201 - val_acc: 0.1583\n",
      "Epoch 5/10\n",
      "159996/159996 [==============================] - 953s 6ms/step - loss: 1.4039 - acc: 0.1583 - val_loss: 1.3006 - val_acc: 0.1583\n",
      "Epoch 6/10\n",
      "159996/159996 [==============================] - 928s 6ms/step - loss: 1.2167 - acc: 0.1583 - val_loss: 1.1392 - val_acc: 0.1583\n",
      "Epoch 7/10\n",
      "159996/159996 [==============================] - 922s 6ms/step - loss: 1.0726 - acc: 0.1583 - val_loss: 1.0098 - val_acc: 0.1583\n",
      "Epoch 8/10\n",
      "159996/159996 [==============================] - 957s 6ms/step - loss: 0.9543 - acc: 0.1583 - val_loss: 0.9013 - val_acc: 0.1583\n",
      "Epoch 9/10\n",
      "159996/159996 [==============================] - 958s 6ms/step - loss: 0.8536 - acc: 0.1583 - val_loss: 0.8078 - val_acc: 0.1583\n",
      "Epoch 10/10\n",
      "159996/159996 [==============================] - 927s 6ms/step - loss: 0.7663 - acc: 0.1583 - val_loss: 0.7265 - val_acc: 0.1583\n"
     ]
    }
   ],
   "source": [
    "#Training model\n",
    "epochs = 10\n",
    "history = model_2.fit(X_train, y_train, nb_epoch=epochs, batch_size=482,validation_data = (X_cv,y_cv),callbacks=[Check_point])"
   ]
  },
  {
   "cell_type": "code",
   "execution_count": 0,
   "metadata": {
    "colab": {
     "base_uri": "https://localhost:8080/",
     "height": 283
    },
    "colab_type": "code",
    "id": "7H8pC9SEjfsP",
    "outputId": "61eec8ff-7a0e-400c-f5cf-eefaf07c4a28"
   },
   "outputs": [
    {
     "data": {
      "image/png": "[encoded data removed]",
      "text/plain": [
       "<Figure size 432x288 with 1 Axes>"
      ]
     },
     "metadata": {
      "tags": []
     },
     "output_type": "display_data"
    }
   ],
   "source": [
    "fig,ax = plt.subplots(1,1)\n",
    "ax.set_xlabel('epoch') ; ax.set_ylabel('Categorical Crossentropy Loss')\n",
    "\n",
    "# list of epoch numbers\n",
    "x = list(range(1,epochs+1))\n",
    "\n",
    "# print(history.history.keys())\n",
    "# dict_keys(['val_loss', 'val_acc', 'loss', 'acc'])\n",
    "# history = model_drop.fit(X_train, Y_train, batch_size=batch_size, epochs=nb_epoch, verbose=1, validation_data=(X_test, Y_test))\n",
    "\n",
    "# we will get val_loss and val_acc only when you pass the paramter validation_data\n",
    "# val_loss : validation loss\n",
    "# val_acc : validation accuracy\n",
    "\n",
    "# loss : training loss\n",
    "# acc : train accuracy\n",
    "# for each key in histrory.histrory we will have a list of length equal to number of epochs\n",
    "\n",
    "vy = history.history['val_loss']\n",
    "ty = history.history['loss']\n",
    "plt_dynamic(x, vy, ty, ax)"
   ]
  },
  {
   "cell_type": "markdown",
   "metadata": {
    "colab_type": "text",
    "id": "xxna7v4t109z"
   },
   "source": [
    "As we can see that the model is doing good,the loss is getting low and the difference between train and test loss is very low ,we can load the model again and train for 10 more epochs ."
   ]
  },
  {
   "cell_type": "code",
   "execution_count": 0,
   "metadata": {
    "colab": {
     "base_uri": "https://localhost:8080/",
     "height": 319
    },
    "colab_type": "code",
    "id": "hNNAiv1702ys",
    "outputId": "fd6058e3-a365-4f29-b17c-2d697f1c6403"
   },
   "outputs": [
    {
     "name": "stdout",
     "output_type": "stream",
     "text": [
      "Model: \"sequential_1\"\n",
      "_________________________________________________________________\n",
      "Layer (type)                 Output Shape              Param #   \n",
      "=================================================================\n",
      "embedding_1 (Embedding)      (None, 600, 32)           160032    \n",
      "_________________________________________________________________\n",
      "lstm_1 (LSTM)                (None, 600, 50)           16600     \n",
      "_________________________________________________________________\n",
      "lstm_2 (LSTM)                (None, 30)                9720      \n",
      "_________________________________________________________________\n",
      "dense_1 (Dense)              (None, 300)               9300      \n",
      "_________________________________________________________________\n",
      "dense_2 (Dense)              (None, 1)                 301       \n",
      "=================================================================\n",
      "Total params: 195,953\n",
      "Trainable params: 195,953\n",
      "Non-trainable params: 0\n",
      "_________________________________________________________________\n"
     ]
    }
   ],
   "source": [
    "# Loading same model and train \n",
    "from keras.models import load_model\n",
    "model_2 = load_model('/content/drive/My Drive/kaggle/amazon/Amz_unzip/Amazon_best_Multi_LSTM_Model2.h5')\n",
    "model_2.summary()"
   ]
  },
  {
   "cell_type": "code",
   "execution_count": 0,
   "metadata": {
    "colab": {
     "base_uri": "https://localhost:8080/",
     "height": 390
    },
    "colab_type": "code",
    "id": "No2VfomK02wd",
    "outputId": "b05c7f97-bb0e-4576-b877-d2e7056dfd41"
   },
   "outputs": [
    {
     "name": "stdout",
     "output_type": "stream",
     "text": [
      "Train on 159996 samples, validate on 54856 samples\n",
      "Epoch 1/10\n",
      "159996/159996 [==============================] - 852s 5ms/step - loss: 0.7663 - acc: 0.1583 - val_loss: 0.7264 - val_acc: 0.1583\n",
      "Epoch 2/10\n",
      "159996/159996 [==============================] - 845s 5ms/step - loss: 0.6902 - acc: 0.5329 - val_loss: 0.6554 - val_acc: 0.8417\n",
      "Epoch 3/10\n",
      "159996/159996 [==============================] - 837s 5ms/step - loss: 0.6241 - acc: 0.8417 - val_loss: 0.5941 - val_acc: 0.8417\n",
      "Epoch 4/10\n",
      "159996/159996 [==============================] - 840s 5ms/step - loss: 0.5675 - acc: 0.8417 - val_loss: 0.5424 - val_acc: 0.8417\n",
      "Epoch 5/10\n",
      "159996/159996 [==============================] - 846s 5ms/step - loss: 0.5209 - acc: 0.8417 - val_loss: 0.5010 - val_acc: 0.8417\n",
      "Epoch 6/10\n",
      "159996/159996 [==============================] - 843s 5ms/step - loss: 0.4848 - acc: 0.8417 - val_loss: 0.4704 - val_acc: 0.8417\n",
      "Epoch 7/10\n",
      "159996/159996 [==============================] - 842s 5ms/step - loss: 0.4598 - acc: 0.8417 - val_loss: 0.4509 - val_acc: 0.8417\n",
      "Epoch 8/10\n",
      "159996/159996 [==============================] - 843s 5ms/step - loss: 0.4453 - acc: 0.8417 - val_loss: 0.4411 - val_acc: 0.8417\n",
      "Epoch 9/10\n",
      "159996/159996 [==============================] - 844s 5ms/step - loss: 0.4391 - acc: 0.8417 - val_loss: 0.4377 - val_acc: 0.8417\n",
      "Epoch 10/10\n",
      "159996/159996 [==============================] - 843s 5ms/step - loss: 0.4373 - acc: 0.8417 - val_loss: 0.4370 - val_acc: 0.8417\n"
     ]
    }
   ],
   "source": [
    "#callback\n",
    "Check_point =ModelCheckpoint('/content/drive/My Drive/kaggle/amazon/Amz_unzip/Amazon_best_Multi_LSTM_Model2_retrain.h5', monitor='val_loss', verbose=0, save_best_only=True, save_weights_only=False, mode='min', period=4)\n",
    "#Training model\n",
    "epochs = 10\n",
    "history = model_2.fit(X_train, y_train, nb_epoch=epochs, batch_size=482,validation_data = (X_cv,y_cv),callbacks=[Check_point])\n"
   ]
  },
  {
   "cell_type": "code",
   "execution_count": 0,
   "metadata": {
    "colab": {
     "base_uri": "https://localhost:8080/",
     "height": 283
    },
    "colab_type": "code",
    "id": "kKwx6ar902uJ",
    "outputId": "65fe22e3-bf1c-4706-aa89-e2a19c1aff8d"
   },
   "outputs": [
    {
     "data": {
      "image/png": "[encoded data removed]",
      "text/plain": [
       "<Figure size 432x288 with 1 Axes>"
      ]
     },
     "metadata": {
      "tags": []
     },
     "output_type": "display_data"
    }
   ],
   "source": [
    "fig,ax = plt.subplots(1,1)\n",
    "ax.set_xlabel('epoch') ; ax.set_ylabel('Categorical Crossentropy Loss')\n",
    "\n",
    "# list of epoch numbers\n",
    "x = list(range(1,epochs+1))\n",
    "\n",
    "# print(history.history.keys())\n",
    "# dict_keys(['val_loss', 'val_acc', 'loss', 'acc'])\n",
    "# history = model_drop.fit(X_train, Y_train, batch_size=batch_size, epochs=nb_epoch, verbose=1, validation_data=(X_test, Y_test))\n",
    "\n",
    "# we will get val_loss and val_acc only when you pass the paramter validation_data\n",
    "# val_loss : validation loss\n",
    "# val_acc : validation accuracy\n",
    "\n",
    "# loss : training loss\n",
    "# acc : train accuracy\n",
    "# for each key in histrory.histrory we will have a list of length equal to number of epochs\n",
    "\n",
    "vy = history.history['val_loss']\n",
    "ty = history.history['loss']\n",
    "plt_dynamic(x, vy, ty, ax)"
   ]
  },
  {
   "cell_type": "markdown",
   "metadata": {
    "colab_type": "text",
    "id": "Pw_AxD7ebY0g"
   },
   "source": [
    "Even here the model is doing good the loss is decreasing and it does not seem over fitting or underfitting .\n",
    "As you see in the graph at the very end the loss is no more decresing ,so their is a chance that the model reached the saturation point ,where no more loss reduction might happen .\n",
    "to confirm it we will run the mosel for some more epoch"
   ]
  },
  {
   "cell_type": "code",
   "execution_count": 0,
   "metadata": {
    "colab": {
     "base_uri": "https://localhost:8080/",
     "height": 319
    },
    "colab_type": "code",
    "id": "dCBKly1GbUQJ",
    "outputId": "c7770d75-b749-4bfe-ee50-837dc0b0ea42"
   },
   "outputs": [
    {
     "name": "stdout",
     "output_type": "stream",
     "text": [
      "Model: \"sequential_1\"\n",
      "_________________________________________________________________\n",
      "Layer (type)                 Output Shape              Param #   \n",
      "=================================================================\n",
      "embedding_1 (Embedding)      (None, 600, 32)           160032    \n",
      "_________________________________________________________________\n",
      "lstm_1 (LSTM)                (None, 600, 50)           16600     \n",
      "_________________________________________________________________\n",
      "lstm_2 (LSTM)                (None, 30)                9720      \n",
      "_________________________________________________________________\n",
      "dense_1 (Dense)              (None, 300)               9300      \n",
      "_________________________________________________________________\n",
      "dense_2 (Dense)              (None, 1)                 301       \n",
      "=================================================================\n",
      "Total params: 195,953\n",
      "Trainable params: 195,953\n",
      "Non-trainable params: 0\n",
      "_________________________________________________________________\n"
     ]
    }
   ],
   "source": [
    "from keras.models import load_model\n",
    "model_2 = load_model('/content/drive/My Drive/kaggle/amazon/Amz_unzip/Amazon_best_Multi_LSTM_Model2_retrain.h5')\n",
    "model_2.summary()"
   ]
  },
  {
   "cell_type": "code",
   "execution_count": 0,
   "metadata": {
    "colab": {
     "base_uri": "https://localhost:8080/",
     "height": 558
    },
    "colab_type": "code",
    "id": "skLNBT1ObUQb",
    "outputId": "05ab3905-73a8-4167-d73b-f13548aca32c"
   },
   "outputs": [
    {
     "name": "stdout",
     "output_type": "stream",
     "text": [
      "Train on 159996 samples, validate on 54856 samples\n",
      "Epoch 1/15\n",
      "159996/159996 [==============================] - 850s 5ms/step - loss: 0.4391 - acc: 0.8417 - val_loss: 0.4377 - val_acc: 0.8417\n",
      "Epoch 2/15\n",
      "159996/159996 [==============================] - 845s 5ms/step - loss: 0.4373 - acc: 0.8417 - val_loss: 0.4370 - val_acc: 0.8417\n",
      "Epoch 3/15\n",
      "159996/159996 [==============================] - 849s 5ms/step - loss: 0.4369 - acc: 0.8417 - val_loss: 0.4369 - val_acc: 0.8417\n",
      "Epoch 4/15\n",
      "159996/159996 [==============================] - 848s 5ms/step - loss: 0.4369 - acc: 0.8417 - val_loss: 0.4369 - val_acc: 0.8417\n",
      "Epoch 5/15\n",
      "159996/159996 [==============================] - 845s 5ms/step - loss: 0.4369 - acc: 0.8417 - val_loss: 0.4369 - val_acc: 0.8417\n",
      "Epoch 6/15\n",
      "159996/159996 [==============================] - 840s 5ms/step - loss: 0.4369 - acc: 0.8417 - val_loss: 0.4369 - val_acc: 0.8417\n",
      "Epoch 7/15\n",
      "159996/159996 [==============================] - 837s 5ms/step - loss: 0.4369 - acc: 0.8417 - val_loss: 0.4369 - val_acc: 0.8417\n",
      "Epoch 8/15\n",
      "159996/159996 [==============================] - 841s 5ms/step - loss: 0.4369 - acc: 0.8417 - val_loss: 0.4369 - val_acc: 0.8417\n",
      "Epoch 9/15\n",
      "159996/159996 [==============================] - 840s 5ms/step - loss: 0.4369 - acc: 0.8417 - val_loss: 0.4369 - val_acc: 0.8417\n",
      "Epoch 10/15\n",
      "159996/159996 [==============================] - 839s 5ms/step - loss: 0.4369 - acc: 0.8417 - val_loss: 0.4369 - val_acc: 0.8417\n",
      "Epoch 11/15\n",
      "159996/159996 [==============================] - 835s 5ms/step - loss: 0.4369 - acc: 0.8417 - val_loss: 0.4369 - val_acc: 0.8417\n",
      "Epoch 12/15\n",
      "159996/159996 [==============================] - 834s 5ms/step - loss: 0.4369 - acc: 0.8417 - val_loss: 0.4369 - val_acc: 0.8417\n",
      "Epoch 13/15\n",
      "159996/159996 [==============================] - 838s 5ms/step - loss: 0.4369 - acc: 0.8417 - val_loss: 0.4369 - val_acc: 0.8417\n",
      "Epoch 14/15\n",
      "159996/159996 [==============================] - 837s 5ms/step - loss: 0.4369 - acc: 0.8417 - val_loss: 0.4369 - val_acc: 0.8417\n",
      "Epoch 15/15\n",
      "159996/159996 [==============================] - 837s 5ms/step - loss: 0.4369 - acc: 0.8417 - val_loss: 0.4369 - val_acc: 0.8417\n"
     ]
    }
   ],
   "source": [
    "#callback\n",
    "Check_point =ModelCheckpoint('/content/drive/My Drive/kaggle/amazon/Amz_unzip/Amazon_best_Multi_LSTM_Model2_retrain_2.h5', monitor='val_loss', verbose=0, save_best_only=True, save_weights_only=False, mode='min', period=4)\n",
    "#Training model\n",
    "epochs = 15\n",
    "history = model_2.fit(X_train, y_train, nb_epoch=epochs, batch_size=482,validation_data = (X_cv,y_cv),callbacks=[Check_point])\n"
   ]
  },
  {
   "cell_type": "code",
   "execution_count": 0,
   "metadata": {
    "colab": {
     "base_uri": "https://localhost:8080/",
     "height": 283
    },
    "colab_type": "code",
    "id": "rlLw4MeDbUQj",
    "outputId": "7a98fcfd-33ee-45a2-dc9c-569bea43402d"
   },
   "outputs": [
    {
     "data": {
      "image/png": "[encoded data removed]",
      "text/plain": [
       "<Figure size 432x288 with 1 Axes>"
      ]
     },
     "metadata": {
      "tags": []
     },
     "output_type": "display_data"
    }
   ],
   "source": [
    "fig,ax = plt.subplots(1,1)\n",
    "ax.set_xlabel('epoch') ; ax.set_ylabel('Categorical Crossentropy Loss')\n",
    "\n",
    "# list of epoch numbers\n",
    "x = list(range(1,epochs+1))\n",
    "\n",
    "# print(history.history.keys())\n",
    "# dict_keys(['val_loss', 'val_acc', 'loss', 'acc'])\n",
    "# history = model_drop.fit(X_train, Y_train, batch_size=batch_size, epochs=nb_epoch, verbose=1, validation_data=(X_test, Y_test))\n",
    "\n",
    "# we will get val_loss and val_acc only when you pass the paramter validation_data\n",
    "# val_loss : validation loss\n",
    "# val_acc : validation accuracy\n",
    "\n",
    "# loss : training loss\n",
    "# acc : train accuracy\n",
    "# for each key in histrory.histrory we will have a list of length equal to number of epochs\n",
    "\n",
    "vy = history.history['val_loss']\n",
    "ty = history.history['loss']\n",
    "plt_dynamic(x, vy, ty, ax)"
   ]
  },
  {
   "cell_type": "markdown",
   "metadata": {
    "colab_type": "text",
    "id": "mDWPZzACVM0R"
   },
   "source": [
    "Here we can see that the loss does not decress after certain epochs and it remains constant.The model did a good job but not as comapred to single LSTM layer .The loss here is bit high than\n",
    "single LSTM layer model.so we will try some deap Network"
   ]
  },
  {
   "cell_type": "code",
   "execution_count": 0,
   "metadata": {
    "colab": {
     "base_uri": "https://localhost:8080/",
     "height": 50
    },
    "colab_type": "code",
    "id": "Rw_G5vrrduMT",
    "outputId": "fac4b6e2-d16f-46f2-fdd0-d60126c1a01c"
   },
   "outputs": [
    {
     "name": "stdout",
     "output_type": "stream",
     "text": [
      "Test loss: 0.43698130899478693\n",
      "Test accuracy: 0.8416332483074329\n"
     ]
    }
   ],
   "source": [
    "# Final evaluation of the model\n",
    "score = model_2.evaluate(X_test, y_test, verbose=0)\n",
    "print('Test loss:', score[0])\n",
    "print('Test accuracy:', score[1])"
   ]
  },
  {
   "cell_type": "markdown",
   "metadata": {
    "colab_type": "text",
    "id": "REABol4BWEs3"
   },
   "source": [
    "# 5.3 Multi Layered LSTM With Previous Network Trained Weight"
   ]
  },
  {
   "cell_type": "code",
   "execution_count": 0,
   "metadata": {
    "colab": {
     "base_uri": "https://localhost:8080/",
     "height": 759
    },
    "colab_type": "code",
    "id": "OV600b4BWRFT",
    "outputId": "74b8ecb6-49f1-4da0-c525-474933270dec"
   },
   "outputs": [
    {
     "name": "stdout",
     "output_type": "stream",
     "text": [
      "WARNING:tensorflow:From /usr/local/lib/python3.6/dist-packages/keras/backend/tensorflow_backend.py:66: The name tf.get_default_graph is deprecated. Please use tf.compat.v1.get_default_graph instead.\n",
      "\n",
      "WARNING:tensorflow:From /usr/local/lib/python3.6/dist-packages/keras/backend/tensorflow_backend.py:541: The name tf.placeholder is deprecated. Please use tf.compat.v1.placeholder instead.\n",
      "\n",
      "WARNING:tensorflow:From /usr/local/lib/python3.6/dist-packages/keras/backend/tensorflow_backend.py:4432: The name tf.random_uniform is deprecated. Please use tf.random.uniform instead.\n",
      "\n",
      "WARNING:tensorflow:From /usr/local/lib/python3.6/dist-packages/keras/backend/tensorflow_backend.py:148: The name tf.placeholder_with_default is deprecated. Please use tf.compat.v1.placeholder_with_default instead.\n",
      "\n",
      "WARNING:tensorflow:From /usr/local/lib/python3.6/dist-packages/keras/backend/tensorflow_backend.py:4479: The name tf.truncated_normal is deprecated. Please use tf.random.truncated_normal instead.\n",
      "\n",
      "WARNING:tensorflow:From /usr/local/lib/python3.6/dist-packages/keras/backend/tensorflow_backend.py:3733: calling dropout (from tensorflow.python.ops.nn_ops) with keep_prob is deprecated and will be removed in a future version.\n",
      "Instructions for updating:\n",
      "Please use `rate` instead of `keep_prob`. Rate should be set to `rate = 1 - keep_prob`.\n",
      "WARNING:tensorflow:From /usr/local/lib/python3.6/dist-packages/keras/optimizers.py:793: The name tf.train.Optimizer is deprecated. Please use tf.compat.v1.train.Optimizer instead.\n",
      "\n",
      "WARNING:tensorflow:From /usr/local/lib/python3.6/dist-packages/tensorflow/python/ops/nn_impl.py:180: add_dispatch_support.<locals>.wrapper (from tensorflow.python.ops.array_ops) is deprecated and will be removed in a future version.\n",
      "Instructions for updating:\n",
      "Use tf.where in 2.0, which has the same broadcast rule as np.where\n",
      "Model: \"sequential_1\"\n",
      "_________________________________________________________________\n",
      "Layer (type)                 Output Shape              Param #   \n",
      "=================================================================\n",
      "embedding_1 (Embedding)      (None, 600, 32)           160032    \n",
      "_________________________________________________________________\n",
      "lstm_1 (LSTM)                (None, 600, 50)           16600     \n",
      "_________________________________________________________________\n",
      "lstm_2 (LSTM)                (None, 30)                9720      \n",
      "_________________________________________________________________\n",
      "new_connection1 (Dense)      (None, 300)               9300      \n",
      "_________________________________________________________________\n",
      "batch_normalization_1 (Batch (None, 300)               1200      \n",
      "_________________________________________________________________\n",
      "new_connection2 (Dense)      (None, 100)               30100     \n",
      "_________________________________________________________________\n",
      "dropout_1 (Dropout)          (None, 100)               0         \n",
      "_________________________________________________________________\n",
      "new_connection3 (Dense)      (None, 1)                 101       \n",
      "=================================================================\n",
      "Total params: 227,053\n",
      "Trainable params: 226,453\n",
      "Non-trainable params: 600\n",
      "_________________________________________________________________\n",
      "None\n"
     ]
    }
   ],
   "source": [
    "#Deeper neural network with weight initilization from \n",
    "max_feat = 5000\n",
    "max_review_length = 600\n",
    "embedding_vecor_length = 32\n",
    "\n",
    "from keras.callbacks import ModelCheckpoint\n",
    "\n",
    "#initilizing model\n",
    "model_3 = Sequential()\n",
    "\n",
    "#embedding layer which gives 32 dim vector for each batch \n",
    "model_3.add(Embedding(max_feat+1, embedding_vecor_length, input_length=max_review_length,name = 'embedding_1'))\n",
    "\n",
    "#LSTM layer which takes 3D input and returnes output for each time step which can be passed to next layer LSTM\n",
    "#this is done by setting return_sequences=True \n",
    "#reference \"https://machinelearningmastery.com/stacked-long-short-term-memory-networks/\"\n",
    "model_3.add(LSTM(50,activation = 'relu',return_sequences=True,name='lstm_1'))\n",
    "\n",
    "#second layer of LSTM\n",
    "model_3.add(LSTM(30,activation = 'relu',name = 'lstm_2'))\n",
    "\n",
    "#dense layer of size 300\n",
    "model_3.add(Dense(300,activation= 'relu',name = 'new_connection1'))\n",
    "model_3.add(BatchNormalization())\n",
    "\n",
    "#dense layer of size 100\n",
    "model_3.add(Dense(100,activation= 'relu',kernel_initializer = 'he_normal',name = 'new_connection2'))\n",
    "model_3.add(Dropout(0.25))\n",
    "\n",
    "#dense layer of size 1\n",
    "model_3.add(Dense(1,activation= 'relu',name = 'new_connection3'))\n",
    "\n",
    "#loading weight of first layer of single layered LSMT\n",
    "model_3.load_weights('/content/drive/My Drive/kaggle/amazon/Amz_unzip/Amazon_best_Multi_LSTM_retrain.h5',by_name=True)\n",
    "\n",
    "#callback\n",
    "Check_point =ModelCheckpoint('/content/drive/My Drive/kaggle/amazon/Amz_unzip/Amazon_best_Multi_LSTM_model3.h5', monitor='val_loss', verbose=0, save_best_only=True, save_weights_only=False, mode='min', period=2)\n",
    "\n",
    "#compiling model\n",
    "model_3.compile(loss='binary_crossentropy', optimizer='adam', metrics=['accuracy'])\n",
    "\n",
    "print(model_3.summary())            "
   ]
  },
  {
   "cell_type": "code",
   "execution_count": 0,
   "metadata": {
    "colab": {
     "base_uri": "https://localhost:8080/",
     "height": 238
    },
    "colab_type": "code",
    "id": "4UI9fL3BZmpf",
    "outputId": "60bd579d-32d3-425e-ef6e-f524fa33aa34"
   },
   "outputs": [
    {
     "name": "stdout",
     "output_type": "stream",
     "text": [
      "Train on 159996 samples, validate on 54856 samples\n",
      "Epoch 1/5\n",
      "159996/159996 [==============================] - 863s 5ms/step - loss: 13.5660 - acc: 0.1583 - val_loss: 13.5662 - val_acc: 0.1583\n",
      "Epoch 2/5\n",
      "159996/159996 [==============================] - 853s 5ms/step - loss: 13.5660 - acc: 0.1583 - val_loss: 13.5662 - val_acc: 0.1583\n",
      "Epoch 3/5\n",
      "159996/159996 [==============================] - 866s 5ms/step - loss: 13.5660 - acc: 0.1583 - val_loss: 13.5662 - val_acc: 0.1583\n",
      "Epoch 4/5\n",
      "159996/159996 [==============================] - 857s 5ms/step - loss: 13.5660 - acc: 0.1583 - val_loss: 13.5662 - val_acc: 0.1583\n",
      "Epoch 5/5\n",
      "159996/159996 [==============================] - 856s 5ms/step - loss: 13.5660 - acc: 0.1583 - val_loss: 13.5662 - val_acc: 0.1583\n"
     ]
    },
    {
     "data": {
      "text/plain": [
       "<keras.callbacks.History at 0x7f2b8d52a860>"
      ]
     },
     "execution_count": 26,
     "metadata": {
      "tags": []
     },
     "output_type": "execute_result"
    }
   ],
   "source": [
    "epochs = 5\n",
    "model_3.fit(X_train, y_train, nb_epoch=epochs, batch_size=482,validation_data = (X_cv,y_cv),callbacks=[Check_point])"
   ]
  },
  {
   "cell_type": "code",
   "execution_count": 0,
   "metadata": {
    "colab": {
     "base_uri": "https://localhost:8080/",
     "height": 290
    },
    "colab_type": "code",
    "id": "BRzz1yAkbqx2",
    "outputId": "c649883e-d3ac-4673-9e6e-8208e91a1549"
   },
   "outputs": [
    {
     "data": {
      "image/png": "[encoded data removed]",
      "text/plain": [
       "<Figure size 432x288 with 1 Axes>"
      ]
     },
     "metadata": {
      "tags": []
     },
     "output_type": "display_data"
    }
   ],
   "source": [
    "fig,ax = plt.subplots(1,1)\n",
    "ax.set_xlabel('epoch') ; ax.set_ylabel('Categorical Crossentropy Loss')\n",
    "\n",
    "# list of epoch numbers\n",
    "x = list(range(1,epochs+1))\n",
    "\n",
    "# print(history.history.keys())\n",
    "# dict_keys(['val_loss', 'val_acc', 'loss', 'acc'])\n",
    "# history = model_drop.fit(X_train, Y_train, batch_size=batch_size, epochs=nb_epoch, verbose=1, validation_data=(X_test, Y_test))\n",
    "\n",
    "# we will get val_loss and val_acc only when you pass the paramter validation_data\n",
    "# val_loss : validation loss\n",
    "# val_acc : validation accuracy\n",
    "\n",
    "# loss : training loss\n",
    "# acc : train accuracy\n",
    "# for each key in histrory.histrory we will have a list of length equal to number of epochs\n",
    "\n",
    "vy = [13.5660,13.5660,13.5660,13.5660,13.5660]\n",
    "ty = [13.5662,13.5662,13.5662,13.5662,13.5662]\n",
    "plt_dynamic(x, vy, ty, ax)"
   ]
  },
  {
   "cell_type": "markdown",
   "metadata": {
    "colab_type": "text",
    "id": "euyfT0ynP7AD"
   },
   "source": [
    "Here the loss is not get decreasing and it is very high .it might be because the weight initialized made the model to stuck in some local minima or saddle point .Though ADAM optimizer make model to escape from local miniman and saddle point ,it might take lot of epoch .so lets try same model architucture with HE normal weight initilization ."
   ]
  },
  {
   "cell_type": "code",
   "execution_count": 0,
   "metadata": {
    "colab": {
     "base_uri": "https://localhost:8080/",
     "height": 50
    },
    "colab_type": "code",
    "id": "vYGEkhyrQRi-",
    "outputId": "cb7f3f44-58c7-4efe-dda3-31053538c8c0"
   },
   "outputs": [
    {
     "name": "stdout",
     "output_type": "stream",
     "text": [
      "Test loss: 13.5660788917635029\n",
      "Test accuracy: 0.158388917630\n"
     ]
    }
   ],
   "source": [
    "# Final evaluation of the model\n",
    "score = model_3.evaluate(X_test, y_test, verbose=0)\n",
    "print('Test loss:', score[0])\n",
    "print('Test accuracy:', score[1])"
   ]
  },
  {
   "cell_type": "markdown",
   "metadata": {
    "colab_type": "text",
    "id": "VvXlAA-mkPU8"
   },
   "source": [
    "# 5.4 Multi Layered LSTM With He Normal Weight Initilization"
   ]
  },
  {
   "cell_type": "code",
   "execution_count": 0,
   "metadata": {
    "colab": {
     "base_uri": "https://localhost:8080/",
     "height": 437
    },
    "colab_type": "code",
    "id": "kWyxOKfBkPVB",
    "outputId": "974be5c6-713b-4fb1-a3de-ab53d6020e48"
   },
   "outputs": [
    {
     "name": "stdout",
     "output_type": "stream",
     "text": [
      "Model: \"sequential_3\"\n",
      "_________________________________________________________________\n",
      "Layer (type)                 Output Shape              Param #   \n",
      "=================================================================\n",
      "embedding_1 (Embedding)      (None, 600, 32)           160032    \n",
      "_________________________________________________________________\n",
      "lstm_1 (LSTM)                (None, 600, 50)           16600     \n",
      "_________________________________________________________________\n",
      "lstm_2 (LSTM)                (None, 30)                9720      \n",
      "_________________________________________________________________\n",
      "new_connection1 (Dense)      (None, 300)               9300      \n",
      "_________________________________________________________________\n",
      "new_connection2 (Dense)      (None, 100)               30100     \n",
      "_________________________________________________________________\n",
      "batch_normalization_2 (Batch (None, 100)               400       \n",
      "_________________________________________________________________\n",
      "dropout_2 (Dropout)          (None, 100)               0         \n",
      "_________________________________________________________________\n",
      "new_connection3 (Dense)      (None, 1)                 101       \n",
      "=================================================================\n",
      "Total params: 226,253\n",
      "Trainable params: 226,053\n",
      "Non-trainable params: 200\n",
      "_________________________________________________________________\n",
      "None\n"
     ]
    }
   ],
   "source": [
    "#Deeper neural network with weight initilization from \n",
    "max_feat = 5000\n",
    "max_review_length = 600\n",
    "embedding_vecor_length = 32\n",
    "\n",
    "from keras.callbacks import ModelCheckpoint\n",
    "\n",
    "#initilizing model\n",
    "model_4 = Sequential()\n",
    "\n",
    "#embedding layer which gives 64 dim vector for each batch \n",
    "model_4.add(Embedding(max_feat+1, embedding_vecor_length, input_length=max_review_length,name = 'embedding_1'))\n",
    "\n",
    "#LSTM layer which takes 3D input and returnes output for each time step which can be passed to next layer LSTM\n",
    "#this is done by setting return_sequences=True \n",
    "#reference \"https://machinelearningmastery.com/stacked-long-short-term-memory-networks/\"\n",
    "model_4.add(LSTM(50,activation = 'relu',return_sequences=True,name='lstm_1',kernel_initializer = 'he_normal'))\n",
    "\n",
    "#second layer of LSTM\n",
    "model_4.add(LSTM(30,activation = 'relu',name = 'lstm_2',kernel_initializer = 'he_normal'))\n",
    "\n",
    "#dense layer of size 300\n",
    "model_4.add(Dense(300,activation= 'relu',name = 'new_connection1',kernel_initializer = 'he_normal'))\n",
    "\n",
    "#dense layer of size 100\n",
    "model_4.add(Dense(100,activation= 'relu',kernel_initializer = 'he_normal',name = 'new_connection2'))\n",
    "model_4.add(BatchNormalization())\n",
    "model_4.add(Dropout(0.25))\n",
    "\n",
    "#dense layer of size 1\n",
    "model_4.add(Dense(1,activation= 'relu',name = 'new_connection3',kernel_initializer = 'he_normal'))\n",
    "\n",
    "#callback\n",
    "Check_point =ModelCheckpoint('/content/drive/My Drive/kaggle/amazon/Amz_unzip/Amazon_best_Multi_LSTM_model4.h5', monitor='val_loss', verbose=0, save_best_only=True, save_weights_only=False, mode='min', period=3)\n",
    "\n",
    "#compiling model\n",
    "model_4.compile(loss='binary_crossentropy', optimizer='adam', metrics=['accuracy'])\n",
    "\n",
    "print(model_4.summary())            "
   ]
  },
  {
   "cell_type": "code",
   "execution_count": 0,
   "metadata": {
    "colab": {
     "base_uri": "https://localhost:8080/",
     "height": 558
    },
    "colab_type": "code",
    "id": "ndYY8-h6kPVI",
    "outputId": "ac18b3f8-5bf2-4aba-95c8-ffdcfaa2687b"
   },
   "outputs": [
    {
     "name": "stdout",
     "output_type": "stream",
     "text": [
      "Train on 159996 samples, validate on 54856 samples\n",
      "Epoch 1/15\n",
      "159996/159996 [==============================] - 867s 5ms/step - loss: 0.3604 - acc: 0.8721 - val_loss: 0.5465 - val_acc: 0.8618\n",
      "Epoch 2/15\n",
      "159996/159996 [==============================] - 864s 5ms/step - loss: 0.3426 - acc: 0.8720 - val_loss: 2.5217 - val_acc: 1.8230e-04\n",
      "Epoch 3/15\n",
      "159996/159996 [==============================] - 872s 5ms/step - loss: 0.5793 - acc: 0.8270 - val_loss: 5.4205 - val_acc: 0.3835\n",
      "Epoch 4/15\n",
      "159996/159996 [==============================] - 868s 5ms/step - loss: 0.7475 - acc: 0.5895 - val_loss: 0.5424 - val_acc: 0.5994\n",
      "Epoch 5/15\n",
      "159996/159996 [==============================] - 871s 5ms/step - loss: 0.4364 - acc: 0.6932 - val_loss: 0.3946 - val_acc: 0.7822\n",
      "Epoch 6/15\n",
      "159996/159996 [==============================] - 866s 5ms/step - loss: 0.3852 - acc: 0.7653 - val_loss: 0.3492 - val_acc: 0.8014\n",
      "Epoch 7/15\n",
      "159996/159996 [==============================] - 870s 5ms/step - loss: 3.7873 - acc: 0.6491 - val_loss: 13.5662 - val_acc: 0.1583\n",
      "Epoch 8/15\n",
      "159996/159996 [==============================] - 864s 5ms/step - loss: 13.5660 - acc: 0.1583 - val_loss: 13.5662 - val_acc: 0.1583\n",
      "Epoch 9/15\n",
      "159996/159996 [==============================] - 857s 5ms/step - loss: 13.5660 - acc: 0.1583 - val_loss: 13.5662 - val_acc: 0.1583\n",
      "Epoch 10/15\n",
      "159996/159996 [==============================] - 868s 5ms/step - loss: 13.5660 - acc: 0.1583 - val_loss: 13.5662 - val_acc: 0.1583\n",
      "Epoch 11/15\n",
      "159996/159996 [==============================] - 848s 5ms/step - loss: 13.5660 - acc: 0.1583 - val_loss: 13.5662 - val_acc: 0.1583\n",
      "Epoch 12/15\n",
      "159996/159996 [==============================] - 860s 5ms/step - loss: 13.5660 - acc: 0.1583 - val_loss: 13.5662 - val_acc: 0.1583\n",
      "Epoch 13/15\n",
      "159996/159996 [==============================] - 858s 5ms/step - loss: 13.5660 - acc: 0.1583 - val_loss: 13.5662 - val_acc: 0.1583\n",
      "Epoch 14/15\n",
      "159996/159996 [==============================] - 868s 5ms/step - loss: 13.5660 - acc: 0.1583 - val_loss: 13.5662 - val_acc: 0.1583\n",
      "Epoch 15/15\n",
      "159996/159996 [==============================] - 856s 5ms/step - loss: 13.5660 - acc: 0.1583 - val_loss: 13.5662 - val_acc: 0.1583\n"
     ]
    }
   ],
   "source": [
    "epochs = 15\n",
    "history = model_4.fit(X_train, y_train, nb_epoch=epochs, batch_size=482,validation_data = (X_cv,y_cv),callbacks=[Check_point])"
   ]
  },
  {
   "cell_type": "code",
   "execution_count": 0,
   "metadata": {
    "colab": {
     "base_uri": "https://localhost:8080/",
     "height": 283
    },
    "colab_type": "code",
    "id": "sVjXtxb3kbPH",
    "outputId": "fe127701-54c7-477d-abd6-4844fe594851"
   },
   "outputs": [
    {
     "data": {
      "image/png": "[encoded data removed]",
      "text/plain": [
       "<Figure size 432x288 with 1 Axes>"
      ]
     },
     "metadata": {
      "tags": []
     },
     "output_type": "display_data"
    }
   ],
   "source": [
    "fig,ax = plt.subplots(1,1)\n",
    "ax.set_xlabel('epoch') ; ax.set_ylabel('Categorical Crossentropy Loss')\n",
    "\n",
    "# list of epoch numbers\n",
    "x = list(range(1,epochs+1))\n",
    "\n",
    "# print(history.history.keys())\n",
    "# dict_keys(['val_loss', 'val_acc', 'loss', 'acc'])\n",
    "# history = model_drop.fit(X_train, Y_train, batch_size=batch_size, epochs=nb_epoch, verbose=1, validation_data=(X_test, Y_test))\n",
    "\n",
    "# we will get val_loss and val_acc only when you pass the paramter validation_data\n",
    "# val_loss : validation loss\n",
    "# val_acc : validation accuracy\n",
    "\n",
    "# loss : training loss\n",
    "# acc : train accuracy\n",
    "# for each key in histrory.histrory we will have a list of length equal to number of epochs\n",
    "\n",
    "vy = history.history['val_loss']\n",
    "ty = history.history['loss']\n",
    "plt_dynamic(x, vy, ty, ax)"
   ]
  },
  {
   "cell_type": "markdown",
   "metadata": {
    "colab_type": "text",
    "id": "WJKPXWqKRAUT"
   },
   "source": [
    "Here we can see the models loss started getting increased after few epoch it might be because the model would have escaped from local minima or saddle point and started moving ,But sadly again it got stuck in some higher loss point .so will leave this architecture and try 3 layer of LSTM. "
   ]
  },
  {
   "cell_type": "code",
   "execution_count": 0,
   "metadata": {
    "colab": {
     "base_uri": "https://localhost:8080/",
     "height": 50
    },
    "colab_type": "code",
    "id": "D0AjZ4PcKZdQ",
    "outputId": "612329fb-4bdb-4da7-b590-49445f939557"
   },
   "outputs": [
    {
     "name": "stdout",
     "output_type": "stream",
     "text": [
      "Test loss: 0.3481643864252773\n",
      "Test accuracy: 0.8043018592868545\n"
     ]
    }
   ],
   "source": [
    "# Final evaluation of the model\n",
    "score = model_4.evaluate(X_test, y_test, verbose=0)\n",
    "print('Test loss:', score[0])\n",
    "print('Test accuracy:', score[1])"
   ]
  },
  {
   "cell_type": "markdown",
   "metadata": {
    "colab_type": "text",
    "id": "4hao-nQeTSdl"
   },
   "source": [
    "# 5.5 LSTM With deeper Neural Network and He Normal Weight Initilization"
   ]
  },
  {
   "cell_type": "code",
   "execution_count": 0,
   "metadata": {
    "colab": {
     "base_uri": "https://localhost:8080/",
     "height": 538
    },
    "colab_type": "code",
    "id": "JXQ1nii_TSdn",
    "outputId": "b6d1d826-3539-4b2a-a0b3-0ab10a45b915"
   },
   "outputs": [
    {
     "name": "stdout",
     "output_type": "stream",
     "text": [
      "Model: \"sequential_3\"\n",
      "_________________________________________________________________\n",
      "Layer (type)                 Output Shape              Param #   \n",
      "=================================================================\n",
      "embedding_1 (Embedding)      (None, 600, 32)           160032    \n",
      "_________________________________________________________________\n",
      "lstm_1 (LSTM)                (None, 600, 100)          53200     \n",
      "_________________________________________________________________\n",
      "lstm_2 (LSTM)                (None, 600, 64)           42240     \n",
      "_________________________________________________________________\n",
      "lstm_3 (LSTM)                (None, 40)                16800     \n",
      "_________________________________________________________________\n",
      "new_connection1 (Dense)      (None, 200)               8200      \n",
      "_________________________________________________________________\n",
      "dropout_4 (Dropout)          (None, 200)               0         \n",
      "_________________________________________________________________\n",
      "new_connection2 (Dense)      (None, 100)               20100     \n",
      "_________________________________________________________________\n",
      "new_connection3 (Dense)      (None, 64)                6464      \n",
      "_________________________________________________________________\n",
      "batch_normalization_2 (Batch (None, 64)                256       \n",
      "_________________________________________________________________\n",
      "dropout_5 (Dropout)          (None, 64)                0         \n",
      "_________________________________________________________________\n",
      "new_connection4 (Dense)      (None, 1)                 65        \n",
      "=================================================================\n",
      "Total params: 307,357\n",
      "Trainable params: 307,229\n",
      "Non-trainable params: 128\n",
      "_________________________________________________________________\n",
      "None\n"
     ]
    }
   ],
   "source": [
    "#Deeper neural network with weight initilization from \n",
    "max_feat = 5000\n",
    "max_review_length = 600\n",
    "embedding_vecor_length = 32\n",
    "\n",
    "from keras.callbacks import ModelCheckpoint\n",
    "\n",
    "#initilizing model\n",
    "model_5 = Sequential()\n",
    "\n",
    "#embedding layer which gives 32 dim vector for each batch \n",
    "model_5.add(Embedding(max_feat+1, embedding_vecor_length, input_length=max_review_length,name = 'embedding_1'))\n",
    "\n",
    "#LSTM layer which takes 3D input and returnes output for each time step which can be passed to next layer LSTM\n",
    "#this is done by setting return_sequences=True \n",
    "#reference \"https://machinelearningmastery.com/stacked-long-short-term-memory-networks/\"\n",
    "model_5.add(LSTM(100,activation = 'relu',return_sequences=True,name='lstm_1',kernel_initializer = 'he_normal'))\n",
    "\n",
    "#second layer of LSTM\n",
    "model_5.add(LSTM(64,activation = 'relu',return_sequences=True,name='lstm_2',kernel_initializer = 'he_normal'))\n",
    "\n",
    "#third layer of LSTM\n",
    "model_5.add(LSTM(40,activation = 'relu',name = 'lstm_3',kernel_initializer = 'he_normal'))\n",
    "\n",
    "#dense layer of size 200\n",
    "model_5.add(Dense(200,activation= 'relu',name = 'new_connection1',kernel_initializer = 'he_normal'))\n",
    "model_5.add(Dropout(0.25))\n",
    "\n",
    "#dense layer of size 100\n",
    "model_5.add(Dense(100,activation= 'relu',name = 'new_connection2',kernel_initializer = 'he_normal'))\n",
    "\n",
    "#dense layer of size 64\n",
    "model_5.add(Dense(64,activation= 'relu',kernel_initializer = 'he_normal',name = 'new_connection3'))\n",
    "model_5.add(BatchNormalization())\n",
    "model_5.add(Dropout(0.25))\n",
    "\n",
    "#dense layer of size 1\n",
    "model_5.add(Dense(1,activation= 'relu',name = 'new_connection4',kernel_initializer = 'he_normal'))\n",
    "\n",
    "#callback\n",
    "Check_point =ModelCheckpoint('/content/drive/My Drive/kaggle/amazon/Amz_unzip/Amazon_best_Multi_LSTM_model5.h5', monitor='val_loss', verbose=0, save_best_only=True, save_weights_only=False, mode='min', period=3)\n",
    "\n",
    "#compiling model\n",
    "model_5.compile(loss='binary_crossentropy', optimizer='adam', metrics=['accuracy'])\n",
    "\n",
    "print(model_5.summary())            "
   ]
  },
  {
   "cell_type": "code",
   "execution_count": 0,
   "metadata": {
    "colab": {
     "base_uri": "https://localhost:8080/",
     "height": 322
    },
    "colab_type": "code",
    "id": "I-6Q1-nsTSdr",
    "outputId": "b76c441c-8205-40ab-e01f-cfe0ac497b33"
   },
   "outputs": [
    {
     "name": "stdout",
     "output_type": "stream",
     "text": [
      "Train on 159996 samples, validate on 54856 samples\n",
      "Epoch 1/8\n",
      "159996/159996 [==============================] - 1293s 8ms/step - loss: 3.2553 - acc: 0.5359 - val_loss: 1.9838 - val_acc: 0.8428\n",
      "Epoch 2/8\n",
      "159996/159996 [==============================] - 1288s 8ms/step - loss: 0.6746 - acc: 0.8179 - val_loss: 0.9588 - val_acc: 0.8498\n",
      "Epoch 3/8\n",
      "159996/159996 [==============================] - 1283s 8ms/step - loss: 0.4116 - acc: 0.8587 - val_loss: 0.3320 - val_acc: 0.8463\n",
      "Epoch 4/8\n",
      "159996/159996 [==============================] - 1294s 8ms/step - loss: 0.3951 - acc: 0.8601 - val_loss: 0.4611 - val_acc: 0.8728\n",
      "Epoch 5/8\n",
      "159996/159996 [==============================] - 1298s 8ms/step - loss: 0.4255 - acc: 0.8557 - val_loss: 0.4504 - val_acc: 0.8417\n",
      "Epoch 6/8\n",
      "159996/159996 [==============================] - 1274s 8ms/step - loss: 0.4695 - acc: 0.8412 - val_loss: 0.4431 - val_acc: 0.8417\n",
      "Epoch 7/8\n",
      "159996/159996 [==============================] - 1300s 8ms/step - loss: 0.4873 - acc: 0.8357 - val_loss: 0.4751 - val_acc: 0.8417\n",
      "Epoch 8/8\n",
      "159996/159996 [==============================] - 1323s 8ms/step - loss: 0.4650 - acc: 0.8415 - val_loss: 0.4415 - val_acc: 0.8417\n"
     ]
    }
   ],
   "source": [
    "epochs = 8\n",
    "history = model_5.fit(X_train, y_train, nb_epoch=epochs, batch_size=482,validation_data = (X_cv,y_cv),callbacks=[Check_point])"
   ]
  },
  {
   "cell_type": "code",
   "execution_count": 0,
   "metadata": {
    "colab": {
     "base_uri": "https://localhost:8080/",
     "height": 283
    },
    "colab_type": "code",
    "id": "N_CKSPlCTSdu",
    "outputId": "36b496c7-3035-41ec-a77a-1c289372eda3"
   },
   "outputs": [
    {
     "data": {
      "image/png": "[encoded data removed]",
      "text/plain": [
       "<Figure size 432x288 with 1 Axes>"
      ]
     },
     "metadata": {
      "tags": []
     },
     "output_type": "display_data"
    }
   ],
   "source": [
    "fig,ax = plt.subplots(1,1)\n",
    "ax.set_xlabel('epoch') ; ax.set_ylabel('Categorical Crossentropy Loss')\n",
    "\n",
    "# list of epoch numbers\n",
    "x = list(range(1,epochs+1))\n",
    "\n",
    "# print(history.history.keys())\n",
    "# dict_keys(['val_loss', 'val_acc', 'loss', 'acc'])\n",
    "# history = model_drop.fit(X_train, Y_train, batch_size=batch_size, epochs=nb_epoch, verbose=1, validation_data=(X_test, Y_test))\n",
    "\n",
    "# we will get val_loss and val_acc only when you pass the paramter validation_data\n",
    "# val_loss : validation loss\n",
    "# val_acc : validation accuracy\n",
    "\n",
    "# loss : training loss\n",
    "# acc : train accuracy\n",
    "# for each key in histrory.histrory we will have a list of length equal to number of epochs\n",
    "\n",
    "vy = history.history['val_loss']\n",
    "ty = history.history['loss']\n",
    "plt_dynamic(x, vy, ty, ax)"
   ]
  },
  {
   "cell_type": "code",
   "execution_count": 0,
   "metadata": {
    "colab": {
     "base_uri": "https://localhost:8080/",
     "height": 50
    },
    "colab_type": "code",
    "id": "eGUJ1Jh3Tv-1",
    "outputId": "3f742cc6-c566-480d-925e-34f2dcee0ec6"
   },
   "outputs": [
    {
     "name": "stdout",
     "output_type": "stream",
     "text": [
      "Test loss: 0.3436040930077841\n",
      "Test accuracy: 0.8452788917635029\n"
     ]
    }
   ],
   "source": [
    "# Final evaluation of the model\n",
    "score = model_5.evaluate(X_test, y_test, verbose=0)\n",
    "print('Test loss:', score[0])\n",
    "print('Test accuracy:', score[1])"
   ]
  },
  {
   "cell_type": "markdown",
   "metadata": {
    "colab_type": "text",
    "id": "MUnZyRmESLcc"
   },
   "source": [
    "Its good to see that the model has performed well as loss got decreased and it attained saturation point ,but the loss is more when comapred to single layer LSTM."
   ]
  },
  {
   "cell_type": "markdown",
   "metadata": {
    "colab_type": "text",
    "id": "m1PGeVaYBIrS"
   },
   "source": [
    "# Result"
   ]
  },
  {
   "cell_type": "code",
   "execution_count": 0,
   "metadata": {
    "colab": {
     "base_uri": "https://localhost:8080/",
     "height": 168
    },
    "colab_type": "code",
    "id": "UJxW0_BWLVTB",
    "outputId": "08d4ca29-70b4-4534-c9cb-283f084b309d"
   },
   "outputs": [
    {
     "name": "stdout",
     "output_type": "stream",
     "text": [
      "+---------------------------------------------------------------+--------+--------+--------+----------+\n",
      "|                       Model Description                       | Train  |   CV   |  Test  | Test Acc |\n",
      "+---------------------------------------------------------------+--------+--------+--------+----------+\n",
      "|                      1 LSTM,1 Dense Layer                     | 0.0973 | 0.9319 | 0.202  |  0.931   |\n",
      "|                      2 LSTM,2 Dense Layer                     | 0.4369 | 0.4369 | 0.4369 |  0.8416  |\n",
      "| 2 LSTM,3 Dense Layer,with previous models weight initilzation | 13.566 | 13.566 | 13.566 |  0.1538  |\n",
      "|    2 LSTM,3 Dense Layer,with He normal weight initilization   | 3.7873 | 0.1583 | 0.3481 |  0.8043  |\n",
      "|    3 LSTM,4 Dense Layer,with He normal weight initilization   | 0.3951 | 0.332  | 0.3436 |  0.8452  |\n",
      "+---------------------------------------------------------------+--------+--------+--------+----------+\n"
     ]
    }
   ],
   "source": [
    "from prettytable import PrettyTable\n",
    "x = PrettyTable()\n",
    "x.field_names = [\"Model Description\",\"Train\",\"CV\",\"Test\",\"Test Acc\"]\n",
    "x.add_row([\"1 LSTM,1 Dense Layer\", 0.0973,0.9319,0.202,0.9310])\n",
    "x.add_row([\"2 LSTM,2 Dense Layer\", 0.4369,0.4369,0.4369,0.8416])\n",
    "x.add_row([\"2 LSTM,3 Dense Layer,with previous models weight initilzation\", 13.5660,13.5660,13.5660,0.1538])\n",
    "x.add_row([\"2 LSTM,3 Dense Layer,with He normal weight initilization\"\t, 3.7873,0.1583,0.3481,0.8043])\n",
    "x.add_row([\"3 LSTM,4 Dense Layer,with He normal weight initilization\"\t, 0.3951,0.3320,0.3436,0.8452])\n",
    "print(x)"
   ]
  },
  {
   "cell_type": "markdown",
   "metadata": {
    "colab_type": "text",
    "id": "NrNHwOqeSPDl"
   },
   "source": [
    "# Conclusion"
   ]
  },
  {
   "cell_type": "markdown",
   "metadata": {
    "colab_type": "text",
    "id": "ZCdJ5TC4Sft7"
   },
   "source": [
    "We know LSTM can handel even Long term dependency and we witnessed how the model performs with different layers of LSTM ,Dense, Dropout and Batchnormilization .As part of our experiment Single layer LSTM perform better than other models but it started to over fit .3 LSTM Layer cobined with 4 Dense Layer worked good with low logloss , good Accuracy and more over it dint overfit or underfit .so will finalize the same as our final model"
   ]
  }
 ],
 "metadata": {
  "accelerator": "GPU",
  "colab": {
   "collapsed_sections": [],
   "name": "Copy of Amazon Fine Food Reviews Analysis.ipynb",
   "provenance": []
  },
  "kernelspec": {
   "display_name": "Python 3",
   "language": "python",
   "name": "python3"
  },
  "language_info": {
   "codemirror_mode": {
    "name": "ipython",
    "version": 3
   },
   "file_extension": ".py",
   "mimetype": "text/x-python",
   "name": "python",
   "nbconvert_exporter": "python",
   "pygments_lexer": "ipython3",
   "version": "3.7.3"
  }
 },
 "nbformat": 4,
 "nbformat_minor": 1
}
